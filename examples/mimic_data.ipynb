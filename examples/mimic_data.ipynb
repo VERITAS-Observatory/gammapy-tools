{
 "cells": [
  {
   "cell_type": "code",
   "execution_count": 1,
   "metadata": {},
   "outputs": [],
   "source": [
    "from background_from_bkg.fake_source_coordinates import LocationFaker\n",
    "from astropy.coordinates import SkyCoord\n",
    "from astropy.io import fits\n",
    "from astropy.table import Table\n",
    "import matplotlib.pyplot as plt\n",
    "import numpy as np\n"
   ]
  },
  {
   "cell_type": "code",
   "execution_count": 2,
   "metadata": {},
   "outputs": [],
   "source": [
    "known_sources = [\n",
    "    SkyCoord.from_name(\"Crab\"),\n",
    "    SkyCoord.from_name(\"Zeta Tau\"),\n",
    "]\n",
    "target_obs = \"/home/obriens/DataAnalysis/Veritas/Gammapy/Background/Crab_data/64080.anasum.fits\"\n",
    "fake_obs = \"/home/obriens/DataAnalysis/Veritas/Gammapy/Background/Crab_data/64081.anasum.fits\"\n",
    "output_obs = \"/home/obriens/DataAnalysis/Veritas/Gammapy/Background/Crab_data_mimic/64080.anasum.fits\"\n",
    "output_obs_scrambled = \"/home/obriens/DataAnalysis/Veritas/Gammapy/Background/Crab_data_mimic_scrambled/64080.anasum.fits\""
   ]
  },
  {
   "cell_type": "code",
   "execution_count": 6,
   "metadata": {},
   "outputs": [],
   "source": [
    "my_faker = LocationFaker()\n",
    "\n",
    "# Just mimic coordinates\n",
    "my_faker.convert_fov(target_obs, fake_obs, output_obs, overwrite = True )\n",
    "# Mimic coordinates and scramble data\n",
    "my_faker.convert_fov(target_obs, fake_obs, output_obs_scrambled, scramble_point=known_sources, overwrite = True, scramble_theta = 0.35 )"
   ]
  },
  {
   "cell_type": "code",
   "execution_count": 7,
   "metadata": {},
   "outputs": [
    {
     "data": {
      "text/html": [
       "<div><i>Table length=5</i>\n",
       "<table id=\"table131782516186608\" class=\"table-striped table-bordered table-condensed\">\n",
       "<thead><tr><th>EVENT_ID</th><th>TIME</th><th>RA</th><th>DEC</th><th>ENERGY</th><th>ALT</th><th>AZ</th><th>Xoff</th><th>Yoff</th></tr></thead>\n",
       "<thead><tr><th></th><th>s</th><th>deg</th><th>deg</th><th>TeV</th><th>deg</th><th>deg</th><th></th><th></th></tr></thead>\n",
       "<thead><tr><th>int64</th><th>float64</th><th>float32</th><th>float32</th><th>float32</th><th>float32</th><th>float32</th><th>float32</th><th>float32</th></tr></thead>\n",
       "<tr><td>386</td><td>242909531.9657848</td><td>84.420685</td><td>22.402006</td><td>0.25014693</td><td>77.08284</td><td>133.35278</td><td>0.48586053</td><td>-0.55413985</td></tr>\n",
       "<tr><td>1556</td><td>242909534.4139045</td><td>84.18137</td><td>22.179873</td><td>0.15221624</td><td>77.179474</td><td>135.41394</td><td>0.17378567</td><td>-0.5825698</td></tr>\n",
       "<tr><td>1601</td><td>242909534.5072469</td><td>82.883896</td><td>23.668589</td><td>0.18350166</td><td>79.08773</td><td>135.12091</td><td>0.21996112</td><td>1.3261166</td></tr>\n",
       "<tr><td>1958</td><td>242909535.2373116</td><td>83.23213</td><td>20.844967</td><td>0.28404507</td><td>76.64849</td><td>142.09604</td><td>-1.3615988</td><td>-1.0361047</td></tr>\n",
       "<tr><td>4386</td><td>242909540.5288383</td><td>83.17759</td><td>21.872982</td><td>0.58766425</td><td>77.52989</td><td>139.70503</td><td>-0.7355581</td><td>-0.21915773</td></tr>\n",
       "</table></div>"
      ],
      "text/plain": [
       "<Table length=5>\n",
       "EVENT_ID        TIME           RA    ...     AZ       Xoff        Yoff   \n",
       "                 s            deg    ...    deg                          \n",
       " int64        float64       float32  ...  float32   float32     float32  \n",
       "-------- ----------------- --------- ... --------- ---------- -----------\n",
       "     386 242909531.9657848 84.420685 ... 133.35278 0.48586053 -0.55413985\n",
       "    1556 242909534.4139045  84.18137 ... 135.41394 0.17378567  -0.5825698\n",
       "    1601 242909534.5072469 82.883896 ... 135.12091 0.21996112   1.3261166\n",
       "    1958 242909535.2373116  83.23213 ... 142.09604 -1.3615988  -1.0361047\n",
       "    4386 242909540.5288383  83.17759 ... 139.70503 -0.7355581 -0.21915773"
      ]
     },
     "execution_count": 7,
     "metadata": {},
     "output_type": "execute_result"
    }
   ],
   "source": [
    "with fits.open(target_obs) as hdul:\n",
    "    target_events = Table.read(hdul[1])\n",
    "\n",
    "with fits.open(output_obs) as hdul:\n",
    "    faked_events = Table.read(hdul[1])\n",
    "\n",
    "with fits.open(output_obs_scrambled) as hdul:\n",
    "    faked_scrambled_events = Table.read(hdul[1])\n",
    "\n",
    "target_events[:5]"
   ]
  },
  {
   "cell_type": "code",
   "execution_count": 8,
   "metadata": {},
   "outputs": [
    {
     "data": {
      "image/png": "[encoded data removed]",
      "text/plain": [
       "<Figure size 1800x600 with 3 Axes>"
      ]
     },
     "metadata": {},
     "output_type": "display_data"
    }
   ],
   "source": [
    "fig, ax = plt.subplots(1,3, figsize = (18,6))\n",
    "\n",
    "crab_loc = SkyCoord.from_name(\"Crab\")\n",
    "dbin = 0.1\n",
    "bins_ra = np.arange(crab_loc.ra.deg - 2.5, crab_loc.ra.deg + 2.5, dbin)\n",
    "bins_dec = np.arange(crab_loc.dec.deg - 2.5, crab_loc.dec.deg + 2.5, dbin)\n",
    "\n",
    "\n",
    "ax[0].hist2d(target_events[\"RA\"], target_events[\"DEC\"], bins = [bins_ra, bins_dec], vmin = 0, vmax=10);\n",
    "ax[1].hist2d(faked_events[\"RA\"], faked_events[\"DEC\"], bins = [bins_ra, bins_dec], vmin = 0, vmax=10);\n",
    "ax[2].hist2d(faked_scrambled_events[\"RA\"], faked_scrambled_events[\"DEC\"], bins = [bins_ra, bins_dec], vmin = 0, vmax=10);"
   ]
  },
  {
   "cell_type": "code",
   "execution_count": null,
   "metadata": {},
   "outputs": [],
   "source": []
  },
  {
   "cell_type": "code",
   "execution_count": null,
   "metadata": {},
   "outputs": [],
   "source": []
  },
  {
   "cell_type": "code",
   "execution_count": null,
   "metadata": {},
   "outputs": [],
   "source": []
  }
 ],
 "metadata": {
  "kernelspec": {
   "display_name": "vtspy",
   "language": "python",
   "name": "python3"
  },
  "language_info": {
   "codemirror_mode": {
    "name": "ipython",
    "version": 3
   },
   "file_extension": ".py",
   "mimetype": "text/x-python",
   "name": "python",
   "nbconvert_exporter": "python",
   "pygments_lexer": "ipython3",
   "version": "3.9.15"
  }
 },
 "nbformat": 4,
 "nbformat_minor": 2
}
