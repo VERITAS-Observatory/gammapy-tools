{
 "cells": [
  {
   "cell_type": "markdown",
   "id": "05ccd394",
   "metadata": {},
   "source": [
    "# Basic RBM gammapy analysis for VERITAS data\n",
    "\n",
    "Versions: gammapy-tools (1.0.0), gammapy (1.2 + maps.py patch) and V2DL3 (0.5)\n",
    "\n",
    "This notebook is version 0.3\n",
    "\n",
    "Uses [rbm.py](../scripts/rbm.py) and [data_products.py](../scripts/data_products.py) for 2D RBM and 1D spectral/LC analyses, respectively.\n",
    "\n",
    "Optionally, [makeBackground.py](../background_from_bkg/makeBackground/makeBackground.py) can be used to generate bkg headers here. bkg generation and attachment can also be done in [the prepare_dataset notebook](prepare_dataset.ipynb). \n",
    "\n",
    "**If you already have DL3 files with bkg headers, you can skip step 2.**"
   ]
  },
  {
   "cell_type": "markdown",
   "id": "6d54b148",
   "metadata": {},
   "source": [
    "## Important setup instructions\n",
    "\n",
    "For gammapy $\\leq$ 1.2, you need to replace `maps/maps.py` with [this file](https://github.com/gammapy/gammapy/blob/dbed1a1774c1f5df65d5459a0596c41c6d0bffe6/gammapy/datasets/map.py) (to be implemented in gammapy 1.3) in your gammapy install location. The `gammapy.__file__` output below should point to where gammapy is installed. \n",
    "\n",
    "Additionally, your `config[\"io\"][\"search_datastore\"]` should have runwise bkgs already appended so that `get_background_for_run` can use KL divergence can find the nearest bkgs in parameter space. Instructions on how to do that can be found in [these docs](../docs/backgrounds.md)\n",
    "\n",
    "Information on setting up your config file (which will tell gammapy how to run your analysis) can be found in [these docs](../docs/config.md) or by using the [example config](example_config.yaml)."
   ]
  },
  {
   "cell_type": "code",
   "execution_count": 1,
   "id": "26f6e150",
   "metadata": {},
   "outputs": [],
   "source": [
    "import sys\n",
    "import numpy as np\n",
    "import yaml\n",
    "from matplotlib import pyplot as plt\n",
    "from tqdm.auto import tqdm\n",
    "import os\n",
    "\n",
    "import astropy.units as u\n",
    "from astropy.io import fits\n",
    "\n",
    "from gammapy_tools.templates import get_config\n",
    "from gammapy_tools.make_background import *\n",
    "import gammapy_tools.make_background as bkg\n",
    "from gammapy_tools.analysis import *\n",
    "\n",
    "from gammapy.data import DataStore\n",
    "\n",
    "import warnings\n",
    "warnings.filterwarnings(\"ignore\")"
   ]
  },
  {
   "cell_type": "code",
   "execution_count": 2,
   "id": "f01f9e8f",
   "metadata": {},
   "outputs": [
    {
     "data": {
      "text/plain": [
       "'/raid/reedbuck/lrizk/envs/gammapy/lib/python3.11/site-packages/gammapy_tools/__init__.py'"
      ]
     },
     "execution_count": 2,
     "metadata": {},
     "output_type": "execute_result"
    }
   ],
   "source": [
    "import gammapy_tools\n",
    "gammapy_tools.__file__"
   ]
  },
  {
   "cell_type": "markdown",
   "id": "4d699618",
   "metadata": {},
   "source": [
    "## 1. Set up bkg and analysis configuration\n",
    "\n",
    "***Note: bkg $\\equiv$ radial acceptance!***\n",
    "\n",
    "This should be a \"full\" config file containing background generation information as well as analysis (RBM + 1D spectra and lightcurve) information. \n",
    "\n",
    "An example config file is [example_config.yaml](example_config.yaml). Instructions for setting up the config file are listed as comments within the example file. \n",
    "\n",
    "Even if you have generated bkg headers elsewhere, the `'io'`, `'exclusion'`, `'analysis_selection'`, and `'run_selection'` parameters are re-used in the scripts needed to run this notebook."
   ]
  },
  {
   "cell_type": "code",
   "execution_count": 4,
   "id": "31d9c848",
   "metadata": {},
   "outputs": [],
   "source": [
    "with open('example_config.yaml', 'r') as file:\n",
    "    config = yaml.safe_load(file)"
   ]
  },
  {
   "cell_type": "code",
   "execution_count": 5,
   "id": "39e108e8",
   "metadata": {},
   "outputs": [
    {
     "data": {
      "text/plain": [
       "{'io': {'runlist': '/raid/romulus/swong/ED490/Eventdisplay_AnalysisScripts_VTS/scripts/crab_test.txt',\n",
       "  'search_datastore': '/raid/romulus/dl3/ed/dl3_fullenclosure_moderate2tel/',\n",
       "  'in_dir': '/raid/romulus/swong/mydl3/crabtest/',\n",
       "  'out_dir': '/raid/romulus/swong/mydl3/crabtestbkgs/',\n",
       "  'results_dir': '/raid/romulus/swong/mydl3/crabtest/results/',\n",
       "  'from_run': True,\n",
       "  'from_runlist': False},\n",
       " 'binning': {'e_min': 0.1,\n",
       "  'e_max': 100,\n",
       "  'e_bins': 10,\n",
       "  'off_min': 0,\n",
       "  'off_max': 2.5,\n",
       "  'off_bins': 20},\n",
       " 'config': {'njobs': 16},\n",
       " 'exclusion': {'star_cat': './Hipparcos_MAG8_1997.dat',\n",
       "  'exclude_source_name': None,\n",
       "  'exclude_regions': None},\n",
       " 'background_selection': {'nsb_diff': 1.5,\n",
       "  'el_diff': 1,\n",
       "  'az_diff': 45,\n",
       "  'n_tels': 4,\n",
       "  'time_max': 180,\n",
       "  'same_szn': True,\n",
       "  'smooth': True,\n",
       "  'smooth_sigma': 1,\n",
       "  'time_request': 50,\n",
       "  'KL_DIV': True,\n",
       "  'store_KL': False},\n",
       " 'run_selection': {'source_name': 'Crab',\n",
       "  'pos_from_DL3': True,\n",
       "  'source_ra': 83.633114,\n",
       "  'source_dec': 22.014487,\n",
       "  'offset_max': 3.5,\n",
       "  'n_tel': 3,\n",
       "  'el_min': 30},\n",
       " 'spectrum': {'analysis_type': 'RE',\n",
       "  'e_min': 0.2,\n",
       "  'e_max': 30,\n",
       "  'e_bins': 8,\n",
       "  'type': 'PL',\n",
       "  'params': [3.45e-11, 2.6]},\n",
       " 'sky_map': {'e_min': 0.01,\n",
       "  'e_max': 100,\n",
       "  'map_deg': 5,\n",
       "  'bin_sz': 0.01,\n",
       "  'offset_max': 1.75,\n",
       "  'exclusion_regions': [],\n",
       "  'theta': 0.0894427191,\n",
       "  'on_exclusion_region': 0.35,\n",
       "  'ring_rin': '0.53 deg',\n",
       "  'ring_width': '0.14 deg',\n",
       "  'truncate': True,\n",
       "  'min_star_brightness': 6},\n",
       " 'results_file': 'crab_test_results.yaml',\n",
       " 'plot_names': 'crab_test'}"
      ]
     },
     "execution_count": 5,
     "metadata": {},
     "output_type": "execute_result"
    }
   ],
   "source": [
    "config"
   ]
  },
  {
   "cell_type": "markdown",
   "id": "657e26d0",
   "metadata": {},
   "source": [
    "# 2. Background generation\n",
    "\n",
    "The following lines generate bkg headers for runs matching the conditions defined in `config['background_selction']`. Run-wise background generation is currently not supported but this can be found in `examples/prepare_dataset`. \n",
    "\n",
    "**If you wish to skip bkg generation, make sure your DL3 files with attached bkg headers are located in `config['io']['out_dir']` and skip to step 3**"
   ]
  },
  {
   "cell_type": "markdown",
   "id": "10119b21",
   "metadata": {},
   "source": [
    "## Load in our data runs\n",
    "\n",
    "Our DL3 files are contained in the config file in `config['io']['in_dir']`- let's load those in and look at our runlist\n",
    "\n",
    "Alternatively, if you have preprocessed anasum files on disk or only want to use selected runs in the directory, you can set `config['io']['in_dir']` to your datastore and set `config['io']['use_runlist'] = True` as well as providing a runlist (same as ED runlist; one run number per line) in `config['io']['runlist']`, which tells gammapy which runs to use."
   ]
  },
  {
   "cell_type": "code",
   "execution_count": 6,
   "id": "1b75f049",
   "metadata": {},
   "outputs": [
    {
     "name": "stdout",
     "output_type": "stream",
     "text": [
      "[64080 64081 64082 64083]\n"
     ]
    }
   ],
   "source": [
    "data_store = DataStore.from_dir(config[\"io\"][\"in_dir\"])\n",
    "\n",
    "if config['io']['from_runlist']:\n",
    "    obs_ids = np.genfromtxt(config['io']['runlist'],dtype=int,unpack=True)\n",
    "    \n",
    "else:\n",
    "    obs_ids = data_store.obs_ids\n",
    "    \n",
    "print(obs_ids)"
   ]
  },
  {
   "cell_type": "markdown",
   "id": "f5b5d48f",
   "metadata": {},
   "source": [
    "## Find and attach bkgs to the data runs\n",
    "\n",
    "gammapy uses bkg files (called backgrounds) in the same way that VERITAS analyses use radial acceptances (i.e., bkg $\\equiv$ radial acceptance). These normalize the counts in the ring background according to changes in camera acceptance dropping off with radial distance. \n",
    "\n",
    "We want to match these bkg files as closely as possible in observing conditions and time to our actual data runs, using parameters defined in our config file.\n",
    "\n",
    "Radial acceptance is also energy dependent, so we want to define some energy bins at which to generate bkg files. We also want to bin in the X-Y camera plane.\n",
    "\n",
    "By default, bkgs are also smoothed by a Gaussian kernel with a 1-pixel width in the camera plane\n",
    "\n",
    "The `get_background_for_run` function takes as input a tuple with (obs_id,config) and takes the input run matching the observation ID from `config['io']['in_dir']` and outputs a DL3 file with an appended bkg to `config['io']['out_dir']`.\n",
    "\n",
    "This prints out the number of background run hours that are found for each data run. If this is < 10, consider loosening the observing parameters in `config['background_selection']`"
   ]
  },
  {
   "cell_type": "code",
   "execution_count": 7,
   "id": "7fe2295b",
   "metadata": {},
   "outputs": [],
   "source": [
    "from astropy.time import Time\n",
    "epochs = {\n",
    "        \"V4\": {\"tstart\": Time(\"2000-01-01\"), \"tstop\": Time(\"2009-09-13\")},\n",
    "        \"V5\": {\"tstart\": Time(\"2009-09-14\"), \"tstop\": Time(\"2012-07-31\")},\n",
    "        \"V6_2012_2013a\": {\"tstart\": Time(\"2012-08-01\"), \"tstop\": Time(\"2013-03-15\")},\n",
    "        \"V6_2012_2013b\": {\"tstart\": Time(\"2013-03-16\"), \"tstop\": Time(\"2013-11-16\")},\n",
    "        \"V6_2013_2014a\": {\"tstart\": Time(\"2013-11-17\"), \"tstop\": Time(\"2014-05-12\")},\n",
    "        \"V6_2013_2014b\": {\"tstart\": Time(\"2014-05-13\"), \"tstop\": Time(\"2014-11-07\")},\n",
    "        \"V6_2014_2015\": {\"tstart\": Time(\"2014-11-08\"), \"tstop\": Time(\"2015-07-31\")},\n",
    "        \"V6_2015_2016\": {\"tstart\": Time(\"2015-08-01\"), \"tstop\": Time(\"2016-07-31\")},\n",
    "        \"V6_2016_2017\": {\"tstart\": Time(\"2016-08-01\"), \"tstop\": Time(\"2017-07-31\")},\n",
    "        \"V6_2017_2018\": {\"tstart\": Time(\"2017-08-01\"), \"tstop\": Time(\"2018-07-31\")},\n",
    "        \"V6_2018_2019\": {\"tstart\": Time(\"2018-08-01\"), \"tstop\": Time(\"2019-11-12\")},\n",
    "        \"V6_2019_2020w\": {\"tstart\": Time(\"2019-11-13\"), \"tstop\": Time(\"2020-05-07\")},\n",
    "        \"V6_2020_2020s\": {\"tstart\": Time(\"2020-05-08\"), \"tstop\": Time(\"2020-11-04\")},\n",
    "        \"V6_2020_2021w\": {\"tstart\": Time(\"2020-11-05\"), \"tstop\": Time(\"2021-04-27\")},\n",
    "        \"V6_2021_2021s\": {\"tstart\": Time(\"2021-04-28\"), \"tstop\": Time(\"2021-11-16\")},\n",
    "        \"V6_2021_2022w\": {\"tstart\": Time(\"2021-11-17\"), \"tstop\": Time(\"2022-05-09\")},\n",
    "        #  \"V6_2022_2022s\" : {\"tstart\"  :Time(\"2022-05-10\"), \"tstop\" : Time(\"2022-11-08\")},\n",
    "        \"V6_2022_2022s\": {\"tstart\": Time(\"2022-05-10\"), \"tstop\": Time(\"2025-11-08\")},\n",
    "    }\n",
    "\n",
    "zeniths = [(0,10),(10,20),(20,30),(30,40),(40,45),(45,50),(50,55),(55,60)]\n",
    "azimuths = [(-90,90),(90,270)]"
   ]
  },
  {
   "cell_type": "code",
   "execution_count": 8,
   "id": "ed259862",
   "metadata": {},
   "outputs": [
    {
     "name": "stdout",
     "output_type": "stream",
     "text": [
      "mkdir: cannot create directory ‘/raid/romulus/swong/mydl3/crab_irf/’: Permission denied\n"
     ]
    }
   ],
   "source": [
    "# !mkdir /raid/romulus/swong/mydl3/crab_irf/"
   ]
  },
  {
   "cell_type": "code",
   "execution_count": 30,
   "id": "4d1684cd",
   "metadata": {
    "scrolled": true
   },
   "outputs": [
    {
     "data": {
      "application/vnd.jupyter.widget-view+json": {
       "model_id": "b72796ef484d4cb5a1f128147be63b4c",
       "version_major": 2,
       "version_minor": 0
      },
      "text/plain": [
       "  0%|          | 0/4 [00:00<?, ?it/s]"
      ]
     },
     "metadata": {},
     "output_type": "display_data"
    },
    {
     "ename": "AttributeError",
     "evalue": "'Observation' object has no attribute 'obs_info'",
     "output_type": "error",
     "traceback": [
      "\u001b[0;31m---------------------------------------------------------------------------\u001b[0m",
      "\u001b[0;31mAttributeError\u001b[0m                            Traceback (most recent call last)",
      "Cell \u001b[0;32mIn[30], line 19\u001b[0m\n\u001b[1;32m     15\u001b[0m     observations \u001b[38;5;241m=\u001b[39m data_store\u001b[38;5;241m.\u001b[39mget_observations(required_irf\u001b[38;5;241m=\u001b[39m\u001b[38;5;124m'\u001b[39m\u001b[38;5;124mall-optional\u001b[39m\u001b[38;5;124m'\u001b[39m, obs_id\u001b[38;5;241m=\u001b[39mobs_ids)\n\u001b[1;32m     17\u001b[0m \u001b[38;5;28;01mfor\u001b[39;00m obs \u001b[38;5;129;01min\u001b[39;00m tqdm(observations):\n\u001b[1;32m     18\u001b[0m     \u001b[38;5;66;03m#print(obs.obs_id)\u001b[39;00m\n\u001b[0;32m---> 19\u001b[0m     ze \u001b[38;5;241m=\u001b[39m \u001b[38;5;241m90\u001b[39m \u001b[38;5;241m-\u001b[39m \u001b[43mobs\u001b[49m\u001b[38;5;241;43m.\u001b[39;49m\u001b[43mobs_info\u001b[49m[\u001b[38;5;124m'\u001b[39m\u001b[38;5;124mALT_PNT\u001b[39m\u001b[38;5;124m'\u001b[39m]\n\u001b[1;32m     20\u001b[0m     az \u001b[38;5;241m=\u001b[39m obs\u001b[38;5;241m.\u001b[39mobs_info[\u001b[38;5;124m'\u001b[39m\u001b[38;5;124mAZ_PNT\u001b[39m\u001b[38;5;124m'\u001b[39m]\n\u001b[1;32m     21\u001b[0m     az \u001b[38;5;241m=\u001b[39m \u001b[38;5;241m270\u001b[39m\u001b[38;5;241m-\u001b[39maz\n",
      "\u001b[0;31mAttributeError\u001b[0m: 'Observation' object has no attribute 'obs_info'"
     ]
    }
   ],
   "source": [
    "# use lookup table to find bkg\n",
    "#path = '/raid/romulus/swong/mydl3/lookup_2d_moderate_epochs/'\n",
    "#path = '/raid/romulus/swong/mydl3/lookup_2d_moderate_epochs_nosmooth/'\n",
    "path='/raid/romulus/swong/mydl3/lookup_2d_hard_epochs_poly/'\n",
    "\n",
    "in_dir = config['io']['in_dir']\n",
    "out_dir = config['io']['out_dir']\n",
    "\n",
    "if config['io']['from_runlist']:\n",
    "    ids = np.genfromtxt(config['io']['runlist'],unpack=True)\n",
    "\n",
    "try:\n",
    "    observations = data_store.get_observations(required_irf='all-optional',obs_id=ids)\n",
    "except NameError:\n",
    "    observations = data_store.get_observations(required_irf='all-optional', obs_id=obs_ids)\n",
    "\n",
    "for obs in tqdm(observations):\n",
    "    #print(obs.obs_id)\n",
    "    ze = 90 - obs.obs_info['ALT_PNT']\n",
    "    az = obs.obs_info['AZ_PNT']\n",
    "    az = 270-az\n",
    "    \n",
    "    for z in zeniths:\n",
    "        if (ze >= z[0]) & (ze < z[1]):\n",
    "            zenith = str(f'{z[0]}-{z[1]}')\n",
    "    for a in azimuths:\n",
    "        if (az >= a[0]) & (az < a[1]):\n",
    "            azimuth = str(f'{a[0]}-{a[1]}')\n",
    "    for epoch in epochs:\n",
    "        if (obs.tstart.iso > epochs[epoch]['tstart']) & (obs.tstart.iso < epochs[epoch]['tstop']):\n",
    "            this_epoch = epoch\n",
    "            break\n",
    "            \n",
    "    bkg_string = path + \"bkg2d_e_0.01_100TeV_azimuth_\" + azimuth + \"_zenith_\" + zenith + \"_\" + this_epoch+ \".fits\"#\"_nosmooth.fits\"\n",
    "    \n",
    "    hdul = fits.open(in_dir + str(obs.obs_id) + '.fits.gz')\n",
    "    if \"BACKGROUND\" in hdul:\n",
    "            bkg_indx = hdul.index_of(\"BACKGROUND\")\n",
    "            hdul.pop(bkg_indx)\n",
    "            \n",
    "    bkg_hdul = fits.open(bkg_string)\n",
    "            \n",
    "    hdul.append(bkg_hdul[1])\n",
    "    hdul.writeto(out_dir+str(obs.obs_id) + '.fits.gz', overwrite=True)\n",
    "\n",
    "    #print(bkg_string)"
   ]
  },
  {
   "cell_type": "code",
   "execution_count": 31,
   "id": "9e5845e3-fb88-4b09-8274-cb5a72af4900",
   "metadata": {},
   "outputs": [
    {
     "ename": "AttributeError",
     "evalue": "'NoneType' object has no attribute 'scale'",
     "output_type": "error",
     "traceback": [
      "\u001b[0;31m---------------------------------------------------------------------------\u001b[0m",
      "\u001b[0;31mAttributeError\u001b[0m                            Traceback (most recent call last)",
      "Cell \u001b[0;32mIn[31], line 1\u001b[0m\n\u001b[0;32m----> 1\u001b[0m \u001b[43mobs\u001b[49m\u001b[38;5;241;43m.\u001b[39;49m\u001b[43mpointing\u001b[49m\u001b[38;5;241;43m.\u001b[39;49m\u001b[43mget_altaz\u001b[49m\u001b[43m(\u001b[49m\u001b[43m)\u001b[49m\n",
      "File \u001b[0;32m/raid/reedbuck/lrizk/envs/gammapy/lib/python3.11/site-packages/gammapy/data/pointing.py:439\u001b[0m, in \u001b[0;36mFixedPointingInfo.get_altaz\u001b[0;34m(self, obstime, location)\u001b[0m\n\u001b[1;32m    436\u001b[0m frame \u001b[38;5;241m=\u001b[39m AltAz(location\u001b[38;5;241m=\u001b[39mlocation, obstime\u001b[38;5;241m=\u001b[39mobstime)\n\u001b[1;32m    438\u001b[0m \u001b[38;5;28;01mif\u001b[39;00m \u001b[38;5;28mself\u001b[39m\u001b[38;5;241m.\u001b[39mmode \u001b[38;5;241m==\u001b[39m PointingMode\u001b[38;5;241m.\u001b[39mPOINTING:\n\u001b[0;32m--> 439\u001b[0m     \u001b[38;5;28;01mreturn\u001b[39;00m \u001b[38;5;28;43mself\u001b[39;49m\u001b[38;5;241;43m.\u001b[39;49m\u001b[43mfixed_icrs\u001b[49m\u001b[38;5;241;43m.\u001b[39;49m\u001b[43mtransform_to\u001b[49m\u001b[43m(\u001b[49m\u001b[43mframe\u001b[49m\u001b[43m)\u001b[49m\n\u001b[1;32m    441\u001b[0m \u001b[38;5;28;01mif\u001b[39;00m \u001b[38;5;28mself\u001b[39m\u001b[38;5;241m.\u001b[39mmode \u001b[38;5;241m==\u001b[39m PointingMode\u001b[38;5;241m.\u001b[39mDRIFT:\n\u001b[1;32m    442\u001b[0m     \u001b[38;5;66;03m# see https://github.com/astropy/astropy/issues/12965\u001b[39;00m\n\u001b[1;32m    443\u001b[0m     alt \u001b[38;5;241m=\u001b[39m \u001b[38;5;28mself\u001b[39m\u001b[38;5;241m.\u001b[39mfixed_altaz\u001b[38;5;241m.\u001b[39malt\n",
      "File \u001b[0;32m/raid/reedbuck/lrizk/envs/gammapy/lib/python3.11/site-packages/astropy/coordinates/sky_coordinate.py:692\u001b[0m, in \u001b[0;36mSkyCoord.transform_to\u001b[0;34m(self, frame, merge_attributes)\u001b[0m\n\u001b[1;32m    688\u001b[0m generic_frame \u001b[38;5;241m=\u001b[39m GenericFrame(frame_kwargs)\n\u001b[1;32m    690\u001b[0m \u001b[38;5;66;03m# Do the transformation, returning a coordinate frame of the desired\u001b[39;00m\n\u001b[1;32m    691\u001b[0m \u001b[38;5;66;03m# final type (not generic).\u001b[39;00m\n\u001b[0;32m--> 692\u001b[0m new_coord \u001b[38;5;241m=\u001b[39m \u001b[43mtrans\u001b[49m\u001b[43m(\u001b[49m\u001b[38;5;28;43mself\u001b[39;49m\u001b[38;5;241;43m.\u001b[39;49m\u001b[43mframe\u001b[49m\u001b[43m,\u001b[49m\u001b[43m \u001b[49m\u001b[43mgeneric_frame\u001b[49m\u001b[43m)\u001b[49m\n\u001b[1;32m    694\u001b[0m \u001b[38;5;66;03m# Finally make the new SkyCoord object from the `new_coord` and\u001b[39;00m\n\u001b[1;32m    695\u001b[0m \u001b[38;5;66;03m# remaining frame_kwargs that are not frame_attributes in `new_coord`.\u001b[39;00m\n\u001b[1;32m    696\u001b[0m \u001b[38;5;28;01mfor\u001b[39;00m attr \u001b[38;5;129;01min\u001b[39;00m \u001b[38;5;28mset\u001b[39m(new_coord\u001b[38;5;241m.\u001b[39mframe_attributes) \u001b[38;5;241m&\u001b[39m \u001b[38;5;28mset\u001b[39m(frame_kwargs\u001b[38;5;241m.\u001b[39mkeys()):\n",
      "File \u001b[0;32m/raid/reedbuck/lrizk/envs/gammapy/lib/python3.11/site-packages/astropy/coordinates/transformations.py:1588\u001b[0m, in \u001b[0;36mCompositeTransform.__call__\u001b[0;34m(self, fromcoord, toframe)\u001b[0m\n\u001b[1;32m   1585\u001b[0m             frattrs[inter_frame_attr_nm] \u001b[38;5;241m=\u001b[39m attr\n\u001b[1;32m   1587\u001b[0m     curr_toframe \u001b[38;5;241m=\u001b[39m t\u001b[38;5;241m.\u001b[39mtosys(\u001b[38;5;241m*\u001b[39m\u001b[38;5;241m*\u001b[39mfrattrs)\n\u001b[0;32m-> 1588\u001b[0m     curr_coord \u001b[38;5;241m=\u001b[39m \u001b[43mt\u001b[49m\u001b[43m(\u001b[49m\u001b[43mcurr_coord\u001b[49m\u001b[43m,\u001b[49m\u001b[43m \u001b[49m\u001b[43mcurr_toframe\u001b[49m\u001b[43m)\u001b[49m\n\u001b[1;32m   1590\u001b[0m \u001b[38;5;66;03m# this is safe even in the case where self.transforms is empty, because\u001b[39;00m\n\u001b[1;32m   1591\u001b[0m \u001b[38;5;66;03m# coordinate objects are immutable, so copying is not needed\u001b[39;00m\n\u001b[1;32m   1592\u001b[0m \u001b[38;5;28;01mreturn\u001b[39;00m curr_coord\n",
      "File \u001b[0;32m/raid/reedbuck/lrizk/envs/gammapy/lib/python3.11/site-packages/astropy/coordinates/transformations.py:1154\u001b[0m, in \u001b[0;36mFunctionTransformWithFiniteDifference.__call__\u001b[0;34m(self, fromcoord, toframe)\u001b[0m\n\u001b[1;32m   1152\u001b[0m     \u001b[38;5;28;01mreturn\u001b[39;00m reprwithoutdiff\u001b[38;5;241m.\u001b[39mrealize_frame(reprwithdiff)\n\u001b[1;32m   1153\u001b[0m \u001b[38;5;28;01melse\u001b[39;00m:\n\u001b[0;32m-> 1154\u001b[0m     \u001b[38;5;28;01mreturn\u001b[39;00m \u001b[43msupcall\u001b[49m\u001b[43m(\u001b[49m\u001b[43mfromcoord\u001b[49m\u001b[43m,\u001b[49m\u001b[43m \u001b[49m\u001b[43mtoframe\u001b[49m\u001b[43m)\u001b[49m\n",
      "File \u001b[0;32m/raid/reedbuck/lrizk/envs/gammapy/lib/python3.11/site-packages/astropy/coordinates/builtin_frames/icrs_observed_transforms.py:33\u001b[0m, in \u001b[0;36micrs_to_observed\u001b[0;34m(icrs_coo, observed_frame)\u001b[0m\n\u001b[1;32m     28\u001b[0m is_unitspherical \u001b[38;5;241m=\u001b[39m (\n\u001b[1;32m     29\u001b[0m     \u001b[38;5;28misinstance\u001b[39m(icrs_coo\u001b[38;5;241m.\u001b[39mdata, UnitSphericalRepresentation)\n\u001b[1;32m     30\u001b[0m     \u001b[38;5;129;01mor\u001b[39;00m icrs_coo\u001b[38;5;241m.\u001b[39mcartesian\u001b[38;5;241m.\u001b[39mx\u001b[38;5;241m.\u001b[39munit \u001b[38;5;241m==\u001b[39m u\u001b[38;5;241m.\u001b[39mone\n\u001b[1;32m     31\u001b[0m )\n\u001b[1;32m     32\u001b[0m \u001b[38;5;66;03m# first set up the astrometry context for ICRS<->observed\u001b[39;00m\n\u001b[0;32m---> 33\u001b[0m astrom \u001b[38;5;241m=\u001b[39m \u001b[43merfa_astrom\u001b[49m\u001b[38;5;241;43m.\u001b[39;49m\u001b[43mget\u001b[49m\u001b[43m(\u001b[49m\u001b[43m)\u001b[49m\u001b[38;5;241;43m.\u001b[39;49m\u001b[43mapco\u001b[49m\u001b[43m(\u001b[49m\u001b[43mobserved_frame\u001b[49m\u001b[43m)\u001b[49m\n\u001b[1;32m     35\u001b[0m \u001b[38;5;66;03m# correct for parallax to find BCRS direction from observer (as in erfa.pmpx)\u001b[39;00m\n\u001b[1;32m     36\u001b[0m \u001b[38;5;28;01mif\u001b[39;00m is_unitspherical:\n",
      "File \u001b[0;32m/raid/reedbuck/lrizk/envs/gammapy/lib/python3.11/site-packages/astropy/coordinates/erfa_astrom.py:52\u001b[0m, in \u001b[0;36mErfaAstrom.apco\u001b[0;34m(frame_or_coord)\u001b[0m\n\u001b[1;32m     49\u001b[0m lon, lat, height \u001b[38;5;241m=\u001b[39m frame_or_coord\u001b[38;5;241m.\u001b[39mlocation\u001b[38;5;241m.\u001b[39mto_geodetic(\u001b[38;5;124m\"\u001b[39m\u001b[38;5;124mWGS84\u001b[39m\u001b[38;5;124m\"\u001b[39m)\n\u001b[1;32m     50\u001b[0m obstime \u001b[38;5;241m=\u001b[39m frame_or_coord\u001b[38;5;241m.\u001b[39mobstime\n\u001b[0;32m---> 52\u001b[0m jd1_tt, jd2_tt \u001b[38;5;241m=\u001b[39m \u001b[43mget_jd12\u001b[49m\u001b[43m(\u001b[49m\u001b[43mobstime\u001b[49m\u001b[43m,\u001b[49m\u001b[43m \u001b[49m\u001b[38;5;124;43m\"\u001b[39;49m\u001b[38;5;124;43mtt\u001b[39;49m\u001b[38;5;124;43m\"\u001b[39;49m\u001b[43m)\u001b[49m\n\u001b[1;32m     53\u001b[0m xp, yp \u001b[38;5;241m=\u001b[39m get_polar_motion(obstime)\n\u001b[1;32m     54\u001b[0m sp \u001b[38;5;241m=\u001b[39m erfa\u001b[38;5;241m.\u001b[39msp00(jd1_tt, jd2_tt)\n",
      "File \u001b[0;32m/raid/reedbuck/lrizk/envs/gammapy/lib/python3.11/site-packages/astropy/coordinates/builtin_frames/utils.py:111\u001b[0m, in \u001b[0;36mget_jd12\u001b[0;34m(time, scale)\u001b[0m\n\u001b[1;32m     95\u001b[0m \u001b[38;5;28;01mdef\u001b[39;00m \u001b[38;5;21mget_jd12\u001b[39m(time, scale):\n\u001b[1;32m     96\u001b[0m \u001b[38;5;250m    \u001b[39m\u001b[38;5;124;03m\"\"\"\u001b[39;00m\n\u001b[1;32m     97\u001b[0m \u001b[38;5;124;03m    Gets ``jd1`` and ``jd2`` from a time object in a particular scale.\u001b[39;00m\n\u001b[1;32m     98\u001b[0m \n\u001b[0;32m   (...)\u001b[0m\n\u001b[1;32m    109\u001b[0m \u001b[38;5;124;03m    jd2 : float\u001b[39;00m\n\u001b[1;32m    110\u001b[0m \u001b[38;5;124;03m    \"\"\"\u001b[39;00m\n\u001b[0;32m--> 111\u001b[0m     \u001b[38;5;28;01mif\u001b[39;00m \u001b[43mtime\u001b[49m\u001b[38;5;241;43m.\u001b[39;49m\u001b[43mscale\u001b[49m \u001b[38;5;241m==\u001b[39m scale:\n\u001b[1;32m    112\u001b[0m         newtime \u001b[38;5;241m=\u001b[39m time\n\u001b[1;32m    113\u001b[0m     \u001b[38;5;28;01melse\u001b[39;00m:\n",
      "\u001b[0;31mAttributeError\u001b[0m: 'NoneType' object has no attribute 'scale'"
     ]
    }
   ],
   "source": [
    "obs.pointing.get_altaz()"
   ]
  },
  {
   "cell_type": "markdown",
   "id": "27ce352e",
   "metadata": {
    "scrolled": true
   },
   "source": [
    "for obs in tqdm(obs_ids):\n",
    "    #print(obs)\n",
    "    if config['io']['from_run']:\n",
    "        generate_background_from_run((obs,config))\n",
    "    else:\n",
    "        get_background_for_run((obs,config))"
   ]
  },
  {
   "cell_type": "markdown",
   "id": "34e01f47",
   "metadata": {},
   "source": [
    "## Write index files for the new DL3 directory\n",
    "\n",
    "From now on, `config['io']['out_dir']` is the data directory containing DL3 files ready for data analysis (bkgs are appended)."
   ]
  },
  {
   "cell_type": "code",
   "execution_count": null,
   "id": "1224dc28",
   "metadata": {},
   "outputs": [],
   "source": [
    "write_index_files(config)"
   ]
  },
  {
   "cell_type": "markdown",
   "id": "b5f9cb5c",
   "metadata": {},
   "source": [
    "## Peek at data to make sure everything worked - optional\n",
    "\n",
    "All plots should load, in particular make sure the background rate histogram is filled, since this is the only part of the DL3 file we've changed in this notebook.\n",
    "\n",
    "This will take a while to download for long runlists, so feel free to skip this or terminate it early if everything looks fine!"
   ]
  },
  {
   "cell_type": "code",
   "execution_count": null,
   "id": "a258c073",
   "metadata": {
    "scrolled": true
   },
   "outputs": [],
   "source": [
    "from gammapy.data import DataStore\n",
    "import seaborn as sns\n",
    "sns.set_theme(font=\"Serif\",style='ticks',context='paper',palette='pastel')\n",
    "\n",
    "my_data = DataStore.from_dir(config[\"io\"][\"out_dir\"])\n",
    "my_observations = my_data.get_observations()\n",
    "\n",
    "\n",
    "for obs in my_observations:\n",
    "    print(obs.obs_id)\n",
    "    obs.bkg.peek()\n",
    "    obs.bkg.plot_at_energy([0.12 * u.TeV,0.3*u.TeV,5*u.TeV,10*u.TeV,30*u.TeV,50*u.TeV])\n",
    "    plt.show()"
   ]
  },
  {
   "cell_type": "markdown",
   "id": "2895d232",
   "metadata": {},
   "source": [
    "# 3. Analysis\n",
    "\n",
    "This performs a 1D (energy only) reflected regions analysis to get the spectrum and light curve (which gives an integrated flux value for all observations). Sky maps and significances are determined with a 2D (energy + acceptance) ring background analysis."
   ]
  },
  {
   "cell_type": "markdown",
   "id": "621b72c2",
   "metadata": {},
   "source": [
    "## i) Spectral analysis\n",
    "\n",
    "Spectral analysis parameters are read in from the `spectrum` section of the config file. You can also set the analysis as either `FoV` (field of view background method) or `RE` (reflected regions). \n",
    "\n",
    "If a spectral shape is not provided, a power law fit is used by default.\n",
    "\n",
    "The first plot produced shows the exclusion regions used, and the second is an $E^2 \\frac{dn}{de}$ spectrum.\n",
    "\n",
    "The spectral model will be integrated between `config[\"spectrum\"][\"emin\"]` and `config[\"spectrum\"][\"emax\"]` to calculate an integral flux."
   ]
  },
  {
   "cell_type": "code",
   "execution_count": null,
   "id": "3c73e838",
   "metadata": {},
   "outputs": [],
   "source": [
    "if config['spectrum']['analysis_type'] == 'FoV':\n",
    "    spectral_points,spectral_model = make_spectrum_fov(config,plot=False)\n",
    "elif config['spectrum']['analysis_type'] == 'RE':\n",
    "    spectral_points, spectral_model = make_spectrum_RE(config, plot=False)\n",
    "else:\n",
    "    print('Please select a valid analysis type')"
   ]
  },
  {
   "cell_type": "markdown",
   "id": "db2f6693",
   "metadata": {},
   "source": [
    "## ii) RBM analysis\n",
    "\n",
    "Calculates counts, excess, significance, etc. using RBM normalized by the background files appended to each run.\n",
    "\n",
    "Smaller skymap binning results in much longer runtimes. A binning of 0.01 deg is recommended to match ED, but fast analyses may be done with larger binning (gammapy default is 0.02 deg)."
   ]
  },
  {
   "cell_type": "code",
   "execution_count": null,
   "id": "4cf9e4f5",
   "metadata": {
    "scrolled": true
   },
   "outputs": [],
   "source": [
    "counts,background,alpha,sigma,excess_map,exposure,significance_map,exclusion_mask = rbm_analysis(config)"
   ]
  },
  {
   "cell_type": "code",
   "execution_count": null,
   "id": "b08539cd",
   "metadata": {},
   "outputs": [],
   "source": [
    "counts, background, alpha, sigma"
   ]
  },
  {
   "cell_type": "markdown",
   "id": "535e4e6b",
   "metadata": {},
   "source": [
    "\n",
    "## Plot results\n",
    "\n",
    "Makes RBM maps (significance & excess) and RBM significance distribution.\n",
    "\n",
    "These plots are saved with the prefix defined in: `config['plot_names']`\n",
    "\n",
    "**If you did not compute a spectrum, you can still plot the RBM plots by setting the optional parameter `spectrum=False` in the function call and setting `spectral_points = []`**"
   ]
  },
  {
   "cell_type": "code",
   "execution_count": null,
   "id": "e054c9ef",
   "metadata": {},
   "outputs": [],
   "source": [
    "spectral_points=[]\n",
    "rbm_plots(config,spectral_points,excess_map, significance_map,exclusion_mask,spectrum=False)"
   ]
  },
  {
   "cell_type": "markdown",
   "id": "05d0073a",
   "metadata": {},
   "source": [
    "# 4. Analysis output\n",
    "\n",
    "Write the analysis output (currently formatted for inputting into the gammapy validation page: https://veritas.sao.arizona.edu/wiki/Gammapy_Validation).\n",
    "\n",
    "**If you did not compute a spectrum, you can still plot the RBM plots by setting the optional parameter `spectrum=False` in the function call and `spectral_model=[]`**\n",
    "\n",
    "This is saved in yaml format to the path defined in `config['results_file']`.\n",
    "\n",
    "\n",
    "**You should also upload your config file after validating a source for reproducibility!**"
   ]
  },
  {
   "cell_type": "code",
   "execution_count": null,
   "id": "6fdf4611",
   "metadata": {
    "scrolled": true
   },
   "outputs": [],
   "source": [
    "spectral_model=[]\n",
    "write_validation_info(config,spectral_model,counts,background,alpha,sigma,exposure,spectrum=False)"
   ]
  },
  {
   "cell_type": "code",
   "execution_count": null,
   "id": "b74304bb",
   "metadata": {},
   "outputs": [],
   "source": [
    "from gammapy.maps import WcsNDMap\n",
    "from astropy.io import fits\n",
    "from astropy.wcs import WCS\n",
    "\n",
    "hdul = fits.open('/raid/romulus/swong/data/analysis/Results/v490/crabv4rbm/crabv4.fits')\n",
    "\n",
    "ed_map = WcsNDMap.from_hdu(hdul[5])\n",
    "\n",
    "gammapy_map = significance_map.reduce('energy')\n",
    "sub_map = np.subtract(gammapy_map,ed_map)"
   ]
  },
  {
   "cell_type": "code",
   "execution_count": null,
   "id": "6ba011be",
   "metadata": {},
   "outputs": [],
   "source": [
    "sns.set_theme(font=\"Serif\",style='ticks',context='talk',palette='pastel')\n",
    "\n",
    "w = WCS(hdul[5].header)\n",
    "\n",
    "fig,ax = plt.subplots()\n",
    "fig.set_figwidth(7)\n",
    "fig.set_figheight(7)\n",
    "#plt.subplot(projection=w)\n",
    "plt.title('gammapy - ED')\n",
    "plt.xlabel('Right Ascension')\n",
    "plt.ylabel('Declination')\n",
    "plt.imshow(sub_map,vmin=-5,vmax=5)\n",
    "\n",
    "ndeg = 2\n",
    "r = ndeg/0.01\n",
    "circle = plt.Circle((200,200), r ,fill = False,color='k',lw=1,ls='--',label=f'r={ndeg} deg')\n",
    "\n",
    "ax.add_patch(circle)\n",
    "plt.legend(loc='upper right')\n",
    "\n",
    "plt.colorbar(label='Significance',shrink=0.85)"
   ]
  },
  {
   "cell_type": "code",
   "execution_count": null,
   "id": "d5e02be8",
   "metadata": {},
   "outputs": [],
   "source": [
    "offset = np.arange(1,2.2,0.1)\n",
    "mu = [-0.16,-0.17,-0.16,-0.17,-0.15,-0.15,-0.16,-0.16,-0.15,-0.15,-0.17,-0.18,-0.21]\n",
    "sigma = [1.13,1.11,1.11,1.11,1.09,1.08,1.08,1.05,1.05,1.05,1.05,1.05,1.05]"
   ]
  },
  {
   "cell_type": "code",
   "execution_count": null,
   "id": "804302fd",
   "metadata": {},
   "outputs": [],
   "source": [
    "plt.plot(offset,mu,'o',ms=7,color='salmon')\n",
    "plt.xlabel('offset [deg]')\n",
    "plt.ylabel('mu')"
   ]
  },
  {
   "cell_type": "code",
   "execution_count": null,
   "id": "0e56796c",
   "metadata": {},
   "outputs": [],
   "source": [
    "plt.plot(offset,sigma,'o',ms=7,color='plum')\n",
    "plt.xlabel('offset [deg]')\n",
    "plt.ylabel('sigma')"
   ]
  },
  {
   "cell_type": "code",
   "execution_count": null,
   "id": "1b9a16eb",
   "metadata": {},
   "outputs": [],
   "source": []
  }
 ],
 "metadata": {
  "kernelspec": {
   "display_name": "Python 3 (ipykernel)",
   "language": "python",
   "name": "python3"
  },
  "language_info": {
   "codemirror_mode": {
    "name": "ipython",
    "version": 3
   },
   "file_extension": ".py",
   "mimetype": "text/x-python",
   "name": "python",
   "nbconvert_exporter": "python",
   "pygments_lexer": "ipython3",
   "version": "3.11.6"
  }
 },
 "nbformat": 4,
 "nbformat_minor": 5
}
