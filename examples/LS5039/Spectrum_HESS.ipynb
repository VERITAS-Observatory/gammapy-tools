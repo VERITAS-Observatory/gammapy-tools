{
 "cells": [
  {
   "cell_type": "code",
   "execution_count": 1,
   "id": "b8e813bb-be21-42c4-8af0-e8dc00b44e0b",
   "metadata": {},
   "outputs": [],
   "source": [
    "from pathlib import Path\n",
    "\n",
    "# Check package versions\n",
    "import numpy as np\n",
    "import astropy.units as u\n",
    "from astropy.io import fits\n",
    "from astropy.coordinates import Angle, SkyCoord\n",
    "from regions import CircleSkyRegion\n",
    "\n",
    "# %matplotlib inline\n",
    "import matplotlib.pyplot as plt"
   ]
  },
  {
   "cell_type": "code",
   "execution_count": 2,
   "id": "3b2bd8d7-aea5-4308-be59-bc7c3234d7c1",
   "metadata": {},
   "outputs": [],
   "source": [
    "from IPython.display import display\n",
    "from gammapy.data import DataStore\n",
    "from gammapy.datasets import (\n",
    "    Datasets,\n",
    "    FluxPointsDataset,\n",
    "    SpectrumDataset,\n",
    "    SpectrumDatasetOnOff,\n",
    ")\n",
    "from gammapy.estimators import FluxPointsEstimator\n",
    "from gammapy.makers import (\n",
    "    ReflectedRegionsBackgroundMaker,\n",
    "    SafeMaskMaker,\n",
    "    SpectrumDatasetMaker,\n",
    ")\n",
    "from gammapy.maps import Map, MapAxis, RegionGeom, WcsGeom\n",
    "from gammapy.modeling import Fit\n",
    "from gammapy.modeling.models import (\n",
    "    PowerLawSpectralModel,\n",
    "    SkyModel,\n",
    "    create_crab_spectral_model,\n",
    ")\n",
    "from gammapy.visualization import plot_spectrum_datasets_off_regions"
   ]
  },
  {
   "cell_type": "code",
   "execution_count": 3,
   "id": "e334490f-4f90-43a0-9469-2c55681ed013",
   "metadata": {},
   "outputs": [],
   "source": [
    "datastore = DataStore.from_dir(\"./moderate2tel/\")\n",
    "\n",
    "observations = datastore.get_observations()"
   ]
  },
  {
   "cell_type": "code",
   "execution_count": 152,
   "id": "78198fe1-e3ec-4253-8410-1174cb8868e7",
   "metadata": {},
   "outputs": [],
   "source": [
    "target_position = SkyCoord(276.26  * u.deg, -13.97* u.deg, frame = \"fk5\")\n",
    "on_region_radius = Angle(\"0.7 deg\")\n",
    "on_region = CircleSkyRegion(center=target_position, radius=on_region_radius)"
   ]
  },
  {
   "cell_type": "code",
   "execution_count": 153,
   "id": "1bc1af4a-a093-463b-88c4-1cc979fb5a1d",
   "metadata": {},
   "outputs": [],
   "source": [
    "energy_axis = MapAxis.from_energy_bounds(\n",
    "    0.5, 20, nbin=5, per_decade=True, unit=\"TeV\", name=\"energy\"\n",
    ")\n",
    "energy_axis_true = MapAxis.from_energy_bounds(\n",
    "    0.1, 100, nbin=20, per_decade=True, unit=\"TeV\", name=\"energy_true\"\n",
    ")\n",
    "\n",
    "geom = RegionGeom.create(region=on_region, axes=[energy_axis])"
   ]
  },
  {
   "cell_type": "code",
   "execution_count": 154,
   "id": "4687691b-5b5a-4dc2-a063-7e63d010ad63",
   "metadata": {},
   "outputs": [],
   "source": [
    "geom_image = geom.to_wcs_geom()"
   ]
  },
  {
   "cell_type": "code",
   "execution_count": 155,
   "id": "d108b17a-5f75-4cf4-b83c-87dff8e32541",
   "metadata": {},
   "outputs": [
    {
     "data": {
      "image/png": "[encoded data removed]",
      "text/plain": [
       "<Figure size 640x480 with 1 Axes>"
      ]
     },
     "metadata": {},
     "output_type": "display_data"
    }
   ],
   "source": [
    "# get the geom that we use\n",
    "\n",
    "# Make the exclusion mask\n",
    "ls_position = SkyCoord.from_name(\"LS 5039\")\n",
    "region_ls = CircleSkyRegion(center=ls_position, radius=0.35 * u.deg)\n",
    "regions = CircleSkyRegion(center=target_position, radius=0.8 * u.deg)\n",
    "# region_hess = CircleSkyRegion(center=SkyCoord(276.26  * u.deg, -13.97* u.deg, frame = \"fk5\"), radius=0.8 * u.deg)\n",
    "\n",
    "all_ex = [regions, region_hess, region_ls]\n",
    "# stars = []\n",
    "# for star in srcs_tab:\n",
    "#     pos = SkyCoord(star[\"RA\"], star[\"DEC\"], frame=\"fk5\", unit=(u.hourangle, u.deg))\n",
    "#     star = CircleSkyRegion(center=pos, radius=0.3 * u.deg)\n",
    "#     stars.append(star)\n",
    "#     all_ex.append(star)\n",
    "\n",
    "# geom_image = geom.to_wcs_geom()\n",
    "skydir = target_position.galactic\n",
    "geom_image = WcsGeom.create(\n",
    "    npix=(150, 150), binsz=0.05, skydir=skydir, proj=\"TAN\", frame=\"icrs\"\n",
    ")\n",
    "exclusion_mask = ~geom_image.region_mask(all_ex)\n",
    "exclusion_mask.sum_over_axes().plot()\n",
    "\n",
    "\n",
    "source_only_mask = ~geom_image.region_mask([regions])\n",
    "# exclusion_mask.write(\"exclusion_mask.fits\", overwrite=\"True\")\n",
    "\n",
    "plt.show()"
   ]
  },
  {
   "cell_type": "code",
   "execution_count": 156,
   "id": "55d4f775-9218-4fd4-998d-95bf06a4a491",
   "metadata": {},
   "outputs": [
    {
     "data": {
      "text/plain": [
       "WcsNDMap\n",
       "\n",
       "\tgeom  : WcsGeom \n",
       " \taxes  : ['lon', 'lat']\n",
       "\tshape : (150, 150)\n",
       "\tndim  : 2\n",
       "\tunit  : \n",
       "\tdtype : bool"
      ]
     },
     "execution_count": 156,
     "metadata": {},
     "output_type": "execute_result"
    }
   ],
   "source": [
    "exclusion_mask"
   ]
  },
  {
   "cell_type": "code",
   "execution_count": 157,
   "id": "3a318cd8-5d15-4ef0-ac6e-dc0b4a19b6bf",
   "metadata": {},
   "outputs": [],
   "source": [
    "\n",
    "dataset_empty = SpectrumDataset.create(geom=geom, energy_axis_true=energy_axis_true)\n",
    "\n",
    "dataset_maker = SpectrumDatasetMaker(\n",
    "    containment_correction=True, selection=[\"counts\", \"exposure\", \"edisp\"],\n",
    "    use_region_center=True\n",
    ")\n",
    "bkg_maker = ReflectedRegionsBackgroundMaker(exclusion_mask=exclusion_mask)\n",
    "safe_mask_masker = SafeMaskMaker(methods=[\"aeff-max\"], aeff_percent=10)"
   ]
  },
  {
   "cell_type": "code",
   "execution_count": 158,
   "id": "723adf79-f894-4446-97e2-e28312770c0b",
   "metadata": {},
   "outputs": [
    {
     "name": "stdout",
     "output_type": "stream",
     "text": [
      "Observation\n",
      "\n",
      "\tobs id            : 69054 \n",
      " \ttstart            : 56451.43\n",
      "\ttstop             : 56451.45\n",
      "\tduration          : 2050.00 s\n",
      "\tpointing (icrs)   : 276.6 deg, -14.3 deg\n",
      "\n",
      "\tdeadtime fraction : 9.2%\n",
      "\n"
     ]
    }
   ],
   "source": [
    "obs_ids = observations.ids\n",
    "print(observations[0])"
   ]
  },
  {
   "cell_type": "code",
   "execution_count": 159,
   "id": "46a3790e-4c24-4a15-8b73-d654429375c9",
   "metadata": {},
   "outputs": [
    {
     "name": "stderr",
     "output_type": "stream",
     "text": [
      "ReflectedRegionsBackgroundMaker failed. No OFF region found outside exclusion mask for dataset '69054'.\n",
      "ReflectedRegionsBackgroundMaker failed. Setting 69054 mask to False.\n"
     ]
    },
    {
     "name": "stdout",
     "output_type": "stream",
     "text": [
      "69054\n",
      "69123\n",
      "69187\n",
      "69188\n"
     ]
    },
    {
     "name": "stderr",
     "output_type": "stream",
     "text": [
      "ReflectedRegionsBackgroundMaker failed. No OFF region found outside exclusion mask for dataset '69202'.\n",
      "ReflectedRegionsBackgroundMaker failed. Setting 69202 mask to False.\n"
     ]
    },
    {
     "name": "stdout",
     "output_type": "stream",
     "text": [
      "69202\n",
      "69203\n",
      "73193\n"
     ]
    },
    {
     "name": "stderr",
     "output_type": "stream",
     "text": [
      "ReflectedRegionsBackgroundMaker failed. No OFF region found outside exclusion mask for dataset '73213'.\n",
      "ReflectedRegionsBackgroundMaker failed. Setting 73213 mask to False.\n"
     ]
    },
    {
     "name": "stdout",
     "output_type": "stream",
     "text": [
      "73213\n",
      "73234\n",
      "73300\n",
      "73317\n"
     ]
    },
    {
     "name": "stderr",
     "output_type": "stream",
     "text": [
      "ReflectedRegionsBackgroundMaker failed. No OFF region found outside exclusion mask for dataset '73335'.\n",
      "ReflectedRegionsBackgroundMaker failed. Setting 73335 mask to False.\n"
     ]
    },
    {
     "name": "stdout",
     "output_type": "stream",
     "text": [
      "73335\n",
      "73356\n",
      "73357\n",
      "73390\n"
     ]
    },
    {
     "name": "stderr",
     "output_type": "stream",
     "text": [
      "ReflectedRegionsBackgroundMaker failed. No OFF region found outside exclusion mask for dataset '73403'.\n",
      "ReflectedRegionsBackgroundMaker failed. Setting 73403 mask to False.\n"
     ]
    },
    {
     "name": "stdout",
     "output_type": "stream",
     "text": [
      "73403\n",
      "73607\n",
      "Datasets\n",
      "--------\n",
      "\n",
      "Dataset 0: \n",
      "\n",
      "  Type       : SpectrumDatasetOnOff\n",
      "  Name       : 69054\n",
      "  Instrument : VERITAS\n",
      "  Models     : \n",
      "\n",
      "Dataset 1: \n",
      "\n",
      "  Type       : SpectrumDatasetOnOff\n",
      "  Name       : 69123\n",
      "  Instrument : VERITAS\n",
      "  Models     : \n",
      "\n",
      "Dataset 2: \n",
      "\n",
      "  Type       : SpectrumDatasetOnOff\n",
      "  Name       : 69187\n",
      "  Instrument : VERITAS\n",
      "  Models     : \n",
      "\n",
      "Dataset 3: \n",
      "\n",
      "  Type       : SpectrumDatasetOnOff\n",
      "  Name       : 69188\n",
      "  Instrument : VERITAS\n",
      "  Models     : \n",
      "\n",
      "Dataset 4: \n",
      "\n",
      "  Type       : SpectrumDatasetOnOff\n",
      "  Name       : 69202\n",
      "  Instrument : VERITAS\n",
      "  Models     : \n",
      "\n",
      "Dataset 5: \n",
      "\n",
      "  Type       : SpectrumDatasetOnOff\n",
      "  Name       : 69203\n",
      "  Instrument : VERITAS\n",
      "  Models     : \n",
      "\n",
      "Dataset 6: \n",
      "\n",
      "  Type       : SpectrumDatasetOnOff\n",
      "  Name       : 73193\n",
      "  Instrument : VERITAS\n",
      "  Models     : \n",
      "\n",
      "Dataset 7: \n",
      "\n",
      "  Type       : SpectrumDatasetOnOff\n",
      "  Name       : 73213\n",
      "  Instrument : VERITAS\n",
      "  Models     : \n",
      "\n",
      "Dataset 8: \n",
      "\n",
      "  Type       : SpectrumDatasetOnOff\n",
      "  Name       : 73234\n",
      "  Instrument : VERITAS\n",
      "  Models     : \n",
      "\n",
      "Dataset 9: \n",
      "\n",
      "  Type       : SpectrumDatasetOnOff\n",
      "  Name       : 73300\n",
      "  Instrument : VERITAS\n",
      "  Models     : \n",
      "\n",
      "Dataset 10: \n",
      "\n",
      "  Type       : SpectrumDatasetOnOff\n",
      "  Name       : 73317\n",
      "  Instrument : VERITAS\n",
      "  Models     : \n",
      "\n",
      "Dataset 11: \n",
      "\n",
      "  Type       : SpectrumDatasetOnOff\n",
      "  Name       : 73335\n",
      "  Instrument : VERITAS\n",
      "  Models     : \n",
      "\n",
      "Dataset 12: \n",
      "\n",
      "  Type       : SpectrumDatasetOnOff\n",
      "  Name       : 73356\n",
      "  Instrument : VERITAS\n",
      "  Models     : \n",
      "\n",
      "Dataset 13: \n",
      "\n",
      "  Type       : SpectrumDatasetOnOff\n",
      "  Name       : 73357\n",
      "  Instrument : VERITAS\n",
      "  Models     : \n",
      "\n",
      "Dataset 14: \n",
      "\n",
      "  Type       : SpectrumDatasetOnOff\n",
      "  Name       : 73390\n",
      "  Instrument : VERITAS\n",
      "  Models     : \n",
      "\n",
      "Dataset 15: \n",
      "\n",
      "  Type       : SpectrumDatasetOnOff\n",
      "  Name       : 73403\n",
      "  Instrument : VERITAS\n",
      "  Models     : \n",
      "\n",
      "Dataset 16: \n",
      "\n",
      "  Type       : SpectrumDatasetOnOff\n",
      "  Name       : 73607\n",
      "  Instrument : VERITAS\n",
      "  Models     : \n",
      "\n",
      "\n"
     ]
    }
   ],
   "source": [
    "datasets = Datasets()\n",
    "\n",
    "for obs_id, observation in zip(obs_ids, observations):\n",
    "    print (obs_id)\n",
    "    dataset = dataset_maker.run(dataset_empty.copy(name=str(obs_id)), observation)\n",
    "    dataset_on_off = bkg_maker.run(dataset, observation)\n",
    "    dataset_on_off = safe_mask_masker.run(dataset_on_off, observation)\n",
    "    datasets.append(dataset_on_off)\n",
    "\n",
    "print(datasets)"
   ]
  },
  {
   "cell_type": "code",
   "execution_count": 160,
   "id": "5469ac2a-cef3-4966-9116-2efa489bb451",
   "metadata": {},
   "outputs": [
    {
     "ename": "AttributeError",
     "evalue": "'NoneType' object has no attribute 'plot_region'",
     "output_type": "error",
     "traceback": [
      "\u001b[0;31m---------------------------------------------------------------------------\u001b[0m",
      "\u001b[0;31mAttributeError\u001b[0m                            Traceback (most recent call last)",
      "Cell \u001b[0;32mIn[160], line 4\u001b[0m\n\u001b[1;32m      2\u001b[0m ax \u001b[38;5;241m=\u001b[39m exclusion_mask\u001b[38;5;241m.\u001b[39mplot()\n\u001b[1;32m      3\u001b[0m on_region\u001b[38;5;241m.\u001b[39mto_pixel(ax\u001b[38;5;241m.\u001b[39mwcs)\u001b[38;5;241m.\u001b[39mplot(ax\u001b[38;5;241m=\u001b[39max, edgecolor\u001b[38;5;241m=\u001b[39m\u001b[38;5;124m\"\u001b[39m\u001b[38;5;124mk\u001b[39m\u001b[38;5;124m\"\u001b[39m)\n\u001b[0;32m----> 4\u001b[0m \u001b[43mplot_spectrum_datasets_off_regions\u001b[49m\u001b[43m(\u001b[49m\u001b[43max\u001b[49m\u001b[38;5;241;43m=\u001b[39;49m\u001b[43max\u001b[49m\u001b[43m,\u001b[49m\u001b[43m \u001b[49m\u001b[43mdatasets\u001b[49m\u001b[38;5;241;43m=\u001b[39;49m\u001b[43mdatasets\u001b[49m\u001b[43m)\u001b[49m\n",
      "File \u001b[0;32m/opt/conda/lib/python3.10/site-packages/gammapy/visualization/utils.py:93\u001b[0m, in \u001b[0;36mplot_spectrum_datasets_off_regions\u001b[0;34m(datasets, ax, legend, legend_kwargs, **kwargs)\u001b[0m\n\u001b[1;32m     90\u001b[0m plot_kwargs\u001b[38;5;241m.\u001b[39msetdefault(\u001b[38;5;124m\"\u001b[39m\u001b[38;5;124medgecolor\u001b[39m\u001b[38;5;124m\"\u001b[39m)\n\u001b[1;32m     91\u001b[0m plot_kwargs\u001b[38;5;241m.\u001b[39mupdate(props)\n\u001b[0;32m---> 93\u001b[0m \u001b[43mdataset\u001b[49m\u001b[38;5;241;43m.\u001b[39;49m\u001b[43mcounts_off\u001b[49m\u001b[38;5;241;43m.\u001b[39;49m\u001b[43mplot_region\u001b[49m(ax, \u001b[38;5;241m*\u001b[39m\u001b[38;5;241m*\u001b[39mplot_kwargs)\n\u001b[1;32m     95\u001b[0m \u001b[38;5;66;03m# create proxy artist for the custom legend\u001b[39;00m\n\u001b[1;32m     96\u001b[0m \u001b[38;5;28;01mif\u001b[39;00m legend:\n",
      "\u001b[0;31mAttributeError\u001b[0m: 'NoneType' object has no attribute 'plot_region'"
     ]
    },
    {
     "data": {
      "image/png": "[encoded data removed]",
      "text/plain": [
       "<Figure size 640x480 with 1 Axes>"
      ]
     },
     "metadata": {},
     "output_type": "display_data"
    }
   ],
   "source": [
    "plt.figure()\n",
    "ax = exclusion_mask.plot()\n",
    "on_region.to_pixel(ax.wcs).plot(ax=ax, edgecolor=\"k\")\n",
    "plot_spectrum_datasets_off_regions(ax=ax, datasets=datasets)"
   ]
  },
  {
   "cell_type": "code",
   "execution_count": 161,
   "id": "3dc0dba4-ccf9-4bb3-add2-ae6c79cc7f9c",
   "metadata": {},
   "outputs": [
    {
     "name": "stderr",
     "output_type": "stream",
     "text": [
      "/opt/conda/lib/python3.10/site-packages/gammapy/stats/counts_statistic.py:349: RuntimeWarning: invalid value encountered in scalar divide\n",
      "  alpha = self.n_bkg.sum(axis=axis) / n_off\n",
      "/opt/conda/lib/python3.10/site-packages/gammapy/stats/counts_statistic.py:349: RuntimeWarning: invalid value encountered in scalar divide\n",
      "  alpha = self.n_bkg.sum(axis=axis) / n_off\n"
     ]
    },
    {
     "name": "stdout",
     "output_type": "stream",
     "text": [
      "Tobs=4.3 h Excess=820.9 Significance=16.61\n"
     ]
    },
    {
     "data": {
      "text/html": [
       "<div><i>Table length=17</i>\n",
       "<table id=\"table127637668105376\" class=\"table-striped table-bordered table-condensed\">\n",
       "<thead><tr><th>name</th><th>counts</th><th>excess</th><th>sqrt_ts</th><th>background</th><th>npred</th><th>npred_background</th><th>npred_signal</th><th>exposure_min</th><th>exposure_max</th><th>livetime</th><th>ontime</th><th>counts_rate</th><th>background_rate</th><th>excess_rate</th><th>n_bins</th><th>n_fit_bins</th><th>stat_type</th><th>stat_sum</th><th>counts_off</th><th>acceptance</th><th>acceptance_off</th><th>alpha</th></tr></thead>\n",
       "<thead><tr><th></th><th></th><th></th><th></th><th></th><th></th><th></th><th></th><th>m2 s</th><th>m2 s</th><th>s</th><th>s</th><th>1 / s</th><th>1 / s</th><th>1 / s</th><th></th><th></th><th></th><th></th><th></th><th></th><th></th><th></th></tr></thead>\n",
       "<thead><tr><th>str7</th><th>int64</th><th>float64</th><th>float64</th><th>float64</th><th>float64</th><th>float64</th><th>float64</th><th>float64</th><th>float64</th><th>float64</th><th>float64</th><th>float64</th><th>float64</th><th>float64</th><th>int64</th><th>int64</th><th>str5</th><th>float64</th><th>int64</th><th>float64</th><th>float64</th><th>float64</th></tr></thead>\n",
       "<tr><td>stacked</td><td>0</td><td>nan</td><td>nan</td><td>nan</td><td>nan</td><td>0.0</td><td>nan</td><td>0.0</td><td>0.0</td><td>nan</td><td>2050.0</td><td>nan</td><td>nan</td><td>nan</td><td>9</td><td>0</td><td>wstat</td><td>0.0</td><td>0</td><td>0.0</td><td>nan</td><td>nan</td></tr>\n",
       "<tr><td>stacked</td><td>243</td><td>120.75</td><td>8.36402548769673</td><td>122.25</td><td>146.39999999999998</td><td>146.39999999999998</td><td>nan</td><td>2789.41259765625</td><td>295946528.0</td><td>1622.5074067808744</td><td>3853.0</td><td>0.1497681914944984</td><td>0.07534634325186185</td><td>0.07442184824263655</td><td>9</td><td>9</td><td>wstat</td><td>83.25766903013816</td><td>489</td><td>9.0</td><td>36.0</td><td>0.25</td></tr>\n",
       "<tr><td>stacked</td><td>461</td><td>209.41668701171875</td><td>10.143750139517099</td><td>251.58331298828125</td><td>298.24360232753963</td><td>298.24360232753963</td><td>nan</td><td>248.604248046875</td><td>651240640.0</td><td>3279.6771416590404</td><td>5656.0</td><td>0.14056261640644327</td><td>0.076709780298989</td><td>0.06385283610745426</td><td>9</td><td>9</td><td>wstat</td><td>115.7970879421176</td><td>877</td><td>9.0</td><td>31.37330436706543</td><td>0.2868680953979492</td></tr>\n",
       "<tr><td>stacked</td><td>724</td><td>301.41668701171875</td><td>10.901023858697604</td><td>422.58331298828125</td><td>508.5342028841095</td><td>508.5342028841095</td><td>nan</td><td>286.1913757324219</td><td>1104449024.0</td><td>4946.561421823968</td><td>7459.0</td><td>0.1463643000177356</td><td>0.085429711056223</td><td>0.06093458896151258</td><td>9</td><td>9</td><td>wstat</td><td>137.03253414362</td><td>1048</td><td>9.0</td><td>22.319860458374023</td><td>0.4032283425331116</td></tr>\n",
       "<tr><td>stacked</td><td>724</td><td>301.41668701171875</td><td>10.901023858697604</td><td>422.58331298828125</td><td>508.5342084708373</td><td>508.5342084708373</td><td>nan</td><td>286.1913757324219</td><td>1104449024.0</td><td>4946.561421823968</td><td>9262.0</td><td>0.1463643000177356</td><td>0.085429711056223</td><td>0.06093458896151258</td><td>9</td><td>9</td><td>wstat</td><td>137.03252777146548</td><td>1048</td><td>9.0</td><td>22.319860458374023</td><td>0.4032283425331116</td></tr>\n",
       "<tr><td>stacked</td><td>948</td><td>398.6666259765625</td><td>12.88616209331863</td><td>549.3333740234375</td><td>652.0541320508104</td><td>652.0541320508104</td><td>nan</td><td>286.1913757324219</td><td>1398281984.0</td><td>6533.915511639762</td><td>11065.0</td><td>0.14508911208159903</td><td>0.08407414712431381</td><td>0.06101496495728523</td><td>9</td><td>9</td><td>wstat</td><td>186.65979104949</td><td>1555</td><td>9.0</td><td>25.476333618164062</td><td>0.3532690405845642</td></tr>\n",
       "<tr><td>stacked</td><td>1136</td><td>437.6666259765625</td><td>12.444542311680511</td><td>698.3333740234375</td><td>824.8364937041324</td><td>824.8364937041324</td><td>nan</td><td>1289.063720703125</td><td>1637599360.0</td><td>7468.007101508363</td><td>12147.0</td><td>0.15211554897565036</td><td>0.09351000401196599</td><td>0.058605544963684364</td><td>9</td><td>9</td><td>wstat</td><td>166.587557855176</td><td>1704</td><td>9.0</td><td>21.960857391357422</td><td>0.4098200500011444</td></tr>\n",
       "<tr><td>stacked</td><td>1136</td><td>437.6666259765625</td><td>12.444542311680511</td><td>698.3333740234375</td><td>824.8364937041324</td><td>824.8364937041324</td><td>nan</td><td>1289.063720703125</td><td>1637599360.0</td><td>7468.007101508363</td><td>14248.0</td><td>0.15211554897565036</td><td>0.09351000401196599</td><td>0.058605544963684364</td><td>9</td><td>9</td><td>wstat</td><td>166.587557855176</td><td>1704</td><td>9.0</td><td>21.960857391357422</td><td>0.4098200500011444</td></tr>\n",
       "<tr><td>stacked</td><td>1253</td><td>477.6666259765625</td><td>13.03872403817169</td><td>775.3333740234375</td><td>907.4174605723642</td><td>907.4174605723642</td><td>nan</td><td>1492.4146728515625</td><td>1791986304.0</td><td>8347.366915689376</td><td>15269.0</td><td>0.15010721496438734</td><td>0.09288358614812439</td><td>0.057223628816262945</td><td>9</td><td>9</td><td>wstat</td><td>184.28658356812434</td><td>2012</td><td>9.0</td><td>23.35511589050293</td><td>0.38535454869270325</td></tr>\n",
       "<tr><td>stacked</td><td>1458</td><td>556.6666870117188</td><td>14.137004828734405</td><td>901.3333129882812</td><td>1053.1269596576458</td><td>1053.1269596576458</td><td>nan</td><td>3738.5830078125</td><td>2090293248.0</td><td>9790.932428736704</td><td>16890.0</td><td>0.14891329407204598</td><td>0.09205796481066898</td><td>0.056855329261376986</td><td>9</td><td>9</td><td>wstat</td><td>218.95663571255844</td><td>2390</td><td>9.0</td><td>23.86464500427246</td><td>0.37712690234184265</td></tr>\n",
       "<tr><td>stacked</td><td>1691</td><td>616.6666259765625</td><td>14.202584978496214</td><td>1074.3333740234375</td><td>1254.0033263755079</td><td>1254.0033263755079</td><td>nan</td><td>5704.9892578125</td><td>2447991296.0</td><td>11188.842748291227</td><td>18462.0</td><td>0.15113269871079846</td><td>0.09601827447146051</td><td>0.05511442423933794</td><td>9</td><td>9</td><td>wstat</td><td>234.9172994673623</td><td>2563</td><td>9.0</td><td>21.470989227294922</td><td>0.4191702604293823</td></tr>\n",
       "<tr><td>stacked</td><td>1691</td><td>616.6666259765625</td><td>14.202584978496214</td><td>1074.3333740234375</td><td>1254.0033228312393</td><td>1254.0033228312393</td><td>nan</td><td>5704.9892578125</td><td>2447991296.0</td><td>11188.842748291227</td><td>19962.0</td><td>0.15113269871079846</td><td>0.09601827447146051</td><td>0.05511442423933794</td><td>9</td><td>9</td><td>wstat</td><td>234.91730483972682</td><td>2563</td><td>9.0</td><td>21.470989227294922</td><td>0.4191702604293823</td></tr>\n",
       "<tr><td>stacked</td><td>1721</td><td>625.9166259765625</td><td>14.313747403286095</td><td>1095.0833740234375</td><td>1275.7295862199612</td><td>1275.7295862199612</td><td>nan</td><td>5826.50390625</td><td>2494410496.0</td><td>11454.52002906584</td><td>20265.0</td><td>0.15024636524559418</td><td>0.09560272898774143</td><td>0.054643636257852735</td><td>9</td><td>9</td><td>wstat</td><td>238.78864502320064</td><td>2646</td><td>9.0</td><td>21.746288299560547</td><td>0.4138637185096741</td></tr>\n",
       "<tr><td>stacked</td><td>1873</td><td>693.9166259765625</td><td>15.364098114514778</td><td>1179.0833740234375</td><td>1373.6554825286983</td><td>1373.6554825286983</td><td>nan</td><td>6366.27880859375</td><td>2683867136.0</td><td>12539.681258844397</td><td>21525.0</td><td>0.14936583804145334</td><td>0.09402817740616931</td><td>0.05533766063528403</td><td>9</td><td>9</td><td>wstat</td><td>266.1663163395034</td><td>2982</td><td>9.0</td><td>22.761749267578125</td><td>0.39540019631385803</td></tr>\n",
       "<tr><td>stacked</td><td>2112</td><td>779.9166259765625</td><td>16.065547482256438</td><td>1332.0833740234375</td><td>1561.87830347334</td><td>1561.87830347334</td><td>nan</td><td>8613.779296875</td><td>3036895488.0</td><td>13917.369269680228</td><td>23086.0</td><td>0.15175281758177608</td><td>0.09571373355203386</td><td>0.056039084029742225</td><td>9</td><td>9</td><td>wstat</td><td>291.7506530752468</td><td>3135</td><td>9.0</td><td>21.181106567382812</td><td>0.42490696907043457</td></tr>\n",
       "<tr><td>stacked</td><td>2112</td><td>779.9166259765625</td><td>16.065547482256438</td><td>1332.0833740234375</td><td>1561.87830347334</td><td>1561.87830347334</td><td>nan</td><td>8613.779296875</td><td>3036895488.0</td><td>13917.369269680228</td><td>24826.0</td><td>0.15175281758177608</td><td>0.09571373355203386</td><td>0.056039084029742225</td><td>9</td><td>9</td><td>wstat</td><td>291.7506530752468</td><td>3135</td><td>9.0</td><td>21.181106567382812</td><td>0.42490696907043457</td></tr>\n",
       "<tr><td>stacked</td><td>2214</td><td>820.9166259765625</td><td>16.607948593204288</td><td>1393.0833740234375</td><td>1629.477188784191</td><td>1629.477188784191</td><td>nan</td><td>8613.779296875</td><td>3315066624.0</td><td>15429.17166356365</td><td>26503.0</td><td>0.14349441747598238</td><td>0.09028892829763742</td><td>0.053205489178344965</td><td>9</td><td>9</td><td>wstat</td><td>310.75717783672485</td><td>3379</td><td>9.0</td><td>21.829992294311523</td><td>0.41227683424949646</td></tr>\n",
       "</table></div>"
      ],
      "text/plain": [
       "<Table length=17>\n",
       "  name  counts       excess            sqrt_ts           background           npred        ... stat_type      stat_sum      counts_off acceptance   acceptance_off          alpha       \n",
       "                                                                                           ...                                                                                          \n",
       "  str7  int64       float64            float64            float64            float64       ...    str5        float64         int64     float64        float64             float64      \n",
       "------- ------ ------------------ ------------------ ------------------ ------------------ ... --------- ------------------ ---------- ---------- ------------------ -------------------\n",
       "stacked      0                nan                nan                nan                nan ...     wstat                0.0          0        0.0                nan                 nan\n",
       "stacked    243             120.75   8.36402548769673             122.25 146.39999999999998 ...     wstat  83.25766903013816        489        9.0               36.0                0.25\n",
       "stacked    461 209.41668701171875 10.143750139517099 251.58331298828125 298.24360232753963 ...     wstat  115.7970879421176        877        9.0  31.37330436706543  0.2868680953979492\n",
       "stacked    724 301.41668701171875 10.901023858697604 422.58331298828125  508.5342028841095 ...     wstat    137.03253414362       1048        9.0 22.319860458374023  0.4032283425331116\n",
       "stacked    724 301.41668701171875 10.901023858697604 422.58331298828125  508.5342084708373 ...     wstat 137.03252777146548       1048        9.0 22.319860458374023  0.4032283425331116\n",
       "stacked    948  398.6666259765625  12.88616209331863  549.3333740234375  652.0541320508104 ...     wstat    186.65979104949       1555        9.0 25.476333618164062  0.3532690405845642\n",
       "stacked   1136  437.6666259765625 12.444542311680511  698.3333740234375  824.8364937041324 ...     wstat   166.587557855176       1704        9.0 21.960857391357422  0.4098200500011444\n",
       "stacked   1136  437.6666259765625 12.444542311680511  698.3333740234375  824.8364937041324 ...     wstat   166.587557855176       1704        9.0 21.960857391357422  0.4098200500011444\n",
       "stacked   1253  477.6666259765625  13.03872403817169  775.3333740234375  907.4174605723642 ...     wstat 184.28658356812434       2012        9.0  23.35511589050293 0.38535454869270325\n",
       "stacked   1458  556.6666870117188 14.137004828734405  901.3333129882812 1053.1269596576458 ...     wstat 218.95663571255844       2390        9.0  23.86464500427246 0.37712690234184265\n",
       "stacked   1691  616.6666259765625 14.202584978496214 1074.3333740234375 1254.0033263755079 ...     wstat  234.9172994673623       2563        9.0 21.470989227294922  0.4191702604293823\n",
       "stacked   1691  616.6666259765625 14.202584978496214 1074.3333740234375 1254.0033228312393 ...     wstat 234.91730483972682       2563        9.0 21.470989227294922  0.4191702604293823\n",
       "stacked   1721  625.9166259765625 14.313747403286095 1095.0833740234375 1275.7295862199612 ...     wstat 238.78864502320064       2646        9.0 21.746288299560547  0.4138637185096741\n",
       "stacked   1873  693.9166259765625 15.364098114514778 1179.0833740234375 1373.6554825286983 ...     wstat  266.1663163395034       2982        9.0 22.761749267578125 0.39540019631385803\n",
       "stacked   2112  779.9166259765625 16.065547482256438 1332.0833740234375   1561.87830347334 ...     wstat  291.7506530752468       3135        9.0 21.181106567382812 0.42490696907043457\n",
       "stacked   2112  779.9166259765625 16.065547482256438 1332.0833740234375   1561.87830347334 ...     wstat  291.7506530752468       3135        9.0 21.181106567382812 0.42490696907043457\n",
       "stacked   2214  820.9166259765625 16.607948593204288 1393.0833740234375  1629.477188784191 ...     wstat 310.75717783672485       3379        9.0 21.829992294311523 0.41227683424949646"
      ]
     },
     "metadata": {},
     "output_type": "display_data"
    }
   ],
   "source": [
    "info_table = datasets.info_table(cumulative=True)\n",
    "print(\n",
    "    f\"Tobs={info_table['livetime'].to('h')[-1]:.1f} Excess={info_table['excess'].value[-1]:.1f} \\\n",
    "Significance={info_table['sqrt_ts'][-1]:.2f}\"\n",
    ")\n",
    "display(info_table)"
   ]
  },
  {
   "cell_type": "code",
   "execution_count": 162,
   "id": "5e623986-185a-4d1b-ba9a-856659b64c9c",
   "metadata": {},
   "outputs": [
    {
     "data": {
      "text/plain": [
       "Text(0, 0.5, 'Sqrt(TS)')"
      ]
     },
     "execution_count": 162,
     "metadata": {},
     "output_type": "execute_result"
    },
    {
     "data": {
      "image/png": "[encoded data removed]",
      "text/plain": [
       "<Figure size 1000x400 with 2 Axes>"
      ]
     },
     "metadata": {},
     "output_type": "display_data"
    }
   ],
   "source": [
    "fig, (ax_excess, ax_sqrt_ts) = plt.subplots(figsize=(10, 4), ncols=2, nrows=1)\n",
    "ax_excess.plot(\n",
    "    info_table[\"livetime\"].to(\"h\"),\n",
    "    info_table[\"excess\"],\n",
    "    marker=\"o\",\n",
    "    ls=\"none\",\n",
    ")\n",
    "\n",
    "ax_excess.set_title(\"Excess\")\n",
    "ax_excess.set_xlabel(\"Livetime [h]\")\n",
    "ax_excess.set_ylabel(\"Excess events\")\n",
    "\n",
    "ax_sqrt_ts.plot(\n",
    "    info_table[\"livetime\"].to(\"h\"),\n",
    "    info_table[\"sqrt_ts\"],\n",
    "    marker=\"o\",\n",
    "    ls=\"none\",\n",
    ")\n",
    "\n",
    "ax_sqrt_ts.set_title(\"Sqrt(TS)\")\n",
    "ax_sqrt_ts.set_xlabel(\"Livetime [h]\")\n",
    "ax_sqrt_ts.set_ylabel(\"Sqrt(TS)\")"
   ]
  },
  {
   "cell_type": "code",
   "execution_count": 163,
   "id": "05df16fd-b1eb-4fb8-a6e6-e96b61261946",
   "metadata": {},
   "outputs": [],
   "source": [
    "path = Path(\"spectrum_analysis_HESS\")\n",
    "path.mkdir(exist_ok=True)\n",
    "\n",
    "for dataset in datasets:\n",
    "    dataset.write(filename=path / f\"obs_{dataset.name}.fits.gz\", overwrite=True)"
   ]
  },
  {
   "cell_type": "code",
   "execution_count": 164,
   "id": "7e0c011c-8fe4-4a7e-be42-82abb8e77bcb",
   "metadata": {},
   "outputs": [],
   "source": [
    "spectral_model = PowerLawSpectralModel(\n",
    "    amplitude=1e-12 * u.Unit(\"cm-2 s-1 TeV-1\"),\n",
    "    index=2,\n",
    "    reference=1 * u.TeV,\n",
    ")\n",
    "model = SkyModel(spectral_model=spectral_model, name=\"HESS J1825-137\")\n",
    "\n",
    "datasets.models = [model]\n",
    "\n",
    "fit_joint = Fit()\n",
    "result_joint = fit_joint.run(datasets=datasets)\n",
    "\n",
    "# we make a copy here to compare it later\n",
    "model_best_joint = model.copy()"
   ]
  },
  {
   "cell_type": "code",
   "execution_count": 165,
   "id": "a84bf9c2-10ed-4779-89ce-e1cfc8f10210",
   "metadata": {},
   "outputs": [
    {
     "name": "stdout",
     "output_type": "stream",
     "text": [
      "OptimizeResult\n",
      "\n",
      "\tbackend    : minuit\n",
      "\tmethod     : migrad\n",
      "\tsuccess    : True\n",
      "\tmessage    : Optimization terminated successfully..\n",
      "\tnfev       : 101\n",
      "\ttotal stat : 152.44\n",
      "\n",
      "CovarianceResult\n",
      "\n",
      "\tbackend    : minuit\n",
      "\tmethod     : hesse\n",
      "\tsuccess    : True\n",
      "\tmessage    : Hesse terminated successfully.\n",
      "\n"
     ]
    }
   ],
   "source": [
    "print(result_joint)"
   ]
  },
  {
   "cell_type": "code",
   "execution_count": 166,
   "id": "0050a077-4265-4c01-921c-101648ead96c",
   "metadata": {},
   "outputs": [
    {
     "data": {
      "text/html": [
       "<div><i>Table length=3</i>\n",
       "<table id=\"table127637785309488\" class=\"table-striped table-bordered table-condensed\">\n",
       "<thead><tr><th>model</th><th>type</th><th>name</th><th>value</th><th>unit</th><th>error</th><th>min</th><th>max</th><th>frozen</th><th>is_norm</th><th>link</th></tr></thead>\n",
       "<thead><tr><th>str14</th><th>str8</th><th>str9</th><th>float64</th><th>str14</th><th>float64</th><th>float64</th><th>float64</th><th>bool</th><th>bool</th><th>str1</th></tr></thead>\n",
       "<tr><td>HESS J1825-137</td><td>spectral</td><td>index</td><td>2.4846e+00</td><td></td><td>7.661e-02</td><td>nan</td><td>nan</td><td>False</td><td>False</td><td></td></tr>\n",
       "<tr><td>HESS J1825-137</td><td>spectral</td><td>amplitude</td><td>2.3875e-11</td><td>TeV-1 s-1 cm-2</td><td>1.611e-12</td><td>nan</td><td>nan</td><td>False</td><td>True</td><td></td></tr>\n",
       "<tr><td>HESS J1825-137</td><td>spectral</td><td>reference</td><td>1.0000e+00</td><td>TeV</td><td>0.000e+00</td><td>nan</td><td>nan</td><td>True</td><td>False</td><td></td></tr>\n",
       "</table></div>"
      ],
      "text/plain": [
       "<Table length=3>\n",
       "    model        type      name     value         unit        error     min     max   frozen is_norm link\n",
       "    str14        str8      str9    float64       str14       float64  float64 float64  bool    bool  str1\n",
       "-------------- -------- --------- ---------- -------------- --------- ------- ------- ------ ------- ----\n",
       "HESS J1825-137 spectral     index 2.4846e+00                7.661e-02     nan     nan  False   False     \n",
       "HESS J1825-137 spectral amplitude 2.3875e-11 TeV-1 s-1 cm-2 1.611e-12     nan     nan  False    True     \n",
       "HESS J1825-137 spectral reference 1.0000e+00            TeV 0.000e+00     nan     nan   True   False     "
      ]
     },
     "metadata": {},
     "output_type": "display_data"
    }
   ],
   "source": [
    "display(result_joint.models.to_parameters_table())"
   ]
  },
  {
   "cell_type": "code",
   "execution_count": 167,
   "id": "0d16f831-d123-439b-8ac4-0dddd28ad9cf",
   "metadata": {},
   "outputs": [
    {
     "data": {
      "text/plain": [
       "<Axes: xlabel='Energy [TeV]', ylabel='$\\\\mathrm{}$'>"
      ]
     },
     "execution_count": 167,
     "metadata": {},
     "output_type": "execute_result"
    },
    {
     "data": {
      "image/png": "[encoded data removed]",
      "text/plain": [
       "<Figure size 640x480 with 2 Axes>"
      ]
     },
     "metadata": {},
     "output_type": "display_data"
    }
   ],
   "source": [
    "plt.figure()\n",
    "ax_spectrum, ax_residuals = datasets[1].plot_fit()\n",
    "ax_spectrum.set_ylim(0.1, 40)\n",
    "datasets[0].plot_masks(ax=ax_spectrum)"
   ]
  },
  {
   "cell_type": "code",
   "execution_count": 168,
   "id": "2fd74faf-7299-4174-8123-094a70faf489",
   "metadata": {},
   "outputs": [],
   "source": [
    "e_min, e_max = 0.5, 20\n",
    "energy_edges = np.geomspace(e_min, e_max, 10) * u.TeV"
   ]
  },
  {
   "cell_type": "code",
   "execution_count": 169,
   "id": "832da282-28a5-4812-9fb4-83c7568d6fe9",
   "metadata": {},
   "outputs": [],
   "source": [
    "fpe = FluxPointsEstimator(\n",
    "    energy_edges=energy_edges, source=\"HESS J1825-137\", selection_optional=\"all\"\n",
    ")\n",
    "flux_points = fpe.run(datasets=datasets)"
   ]
  },
  {
   "cell_type": "code",
   "execution_count": 170,
   "id": "9735c66a-2500-40ee-8632-d63aac9fa1a9",
   "metadata": {},
   "outputs": [
    {
     "data": {
      "text/plain": [
       "<matplotlib.legend.Legend at 0x7415f5f034f0>"
      ]
     },
     "execution_count": 170,
     "metadata": {},
     "output_type": "execute_result"
    },
    {
     "data": {
      "image/png": "[encoded data removed]",
      "text/plain": [
       "<Figure size 640x480 with 2 Axes>"
      ]
     },
     "metadata": {},
     "output_type": "display_data"
    }
   ],
   "source": [
    "fig, ax = plt.subplots()\n",
    "\n",
    "erange = (0.5, 20) * u.TeV\n",
    "\n",
    "flux_points.plot(ax=ax, sed_type=\"e2dnde\", color=\"darkorange\", label = \"Gammapy\")\n",
    "flux_points.plot_ts_profiles(ax=ax, sed_type=\"e2dnde\")\n",
    "\n",
    "\n",
    "model_HESS_tevcat = PowerLawSpectralModel(\n",
    "    amplitude = 1.91e-11 / u.TeV / u.cm / u.cm /u.s,\n",
    "    index = 2.38,\n",
    "    reference = 1.16 * u.TeV\n",
    ")\n",
    "\n",
    "model_HESS_tevcat.plot(\n",
    "    energy_bounds = erange,\n",
    "    label = \"HESS J1825-137 [HGPS 2018]\", sed_type = \"e2dnde\",\n",
    "    color = \"r\"\n",
    ")\n",
    "\n",
    "plt.legend()"
   ]
  },
  {
   "cell_type": "code",
   "execution_count": null,
   "id": "9c3b6ba1-79a9-4668-a5d5-bdd093df9e19",
   "metadata": {},
   "outputs": [],
   "source": []
  },
  {
   "cell_type": "code",
   "execution_count": null,
   "id": "483a67f8-3627-4000-8648-4e4baf72cd24",
   "metadata": {},
   "outputs": [],
   "source": []
  },
  {
   "cell_type": "code",
   "execution_count": null,
   "id": "7a091c26-4979-429d-a8a5-1a603e8f0c25",
   "metadata": {},
   "outputs": [],
   "source": []
  },
  {
   "cell_type": "code",
   "execution_count": null,
   "id": "fec71a6f-8fe7-4769-ad97-7bb788721f32",
   "metadata": {},
   "outputs": [],
   "source": []
  }
 ],
 "metadata": {
  "kernelspec": {
   "display_name": "Python 3 (ipykernel)",
   "language": "python",
   "name": "python3"
  },
  "language_info": {
   "codemirror_mode": {
    "name": "ipython",
    "version": 3
   },
   "file_extension": ".py",
   "mimetype": "text/x-python",
   "name": "python",
   "nbconvert_exporter": "python",
   "pygments_lexer": "ipython3",
   "version": "3.10.12"
  }
 },
 "nbformat": 4,
 "nbformat_minor": 5
}
