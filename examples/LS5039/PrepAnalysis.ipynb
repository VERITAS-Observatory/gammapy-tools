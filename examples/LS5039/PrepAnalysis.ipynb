{
 "cells": [
  {
   "cell_type": "code",
   "execution_count": 1,
   "id": "1228eec6-ea68-4ee6-b6f3-5b646a3e8eb9",
   "metadata": {},
   "outputs": [],
   "source": [
    "import yaml\n",
    "from gammapy_tools.make_background import prepare_dataset, run_make_background\n",
    "from glob import glob"
   ]
  },
  {
   "cell_type": "code",
   "execution_count": 3,
   "id": "f53c6b5f-34d6-4718-9b3d-f3d7e9666d46",
   "metadata": {},
   "outputs": [],
   "source": [
    "with open(\"./config_LS5039.yaml\", \"r\") as f:\n",
    "    config = yaml.safe_load(f)\n"
   ]
  },
  {
   "cell_type": "code",
   "execution_count": 4,
   "id": "b57902e5-85f1-460a-94ec-20e41ea4951f",
   "metadata": {},
   "outputs": [],
   "source": [
    "\n",
    "\n",
    "# Modify the paths to various data stores\n",
    "\n",
    "config['io'][\"search_datastore\"] = \"/local_data/Gammapy/Background/MegaStore/moderate2tel\"\n",
    "config['io']['in_dir'] = \"/local_data/Gammapy/LS5039/moderate2tel/\"\n",
    "config['io']['out_dir'] = \"/local_data/Gammapy/LS5039/moderate2tel/\"\n",
    "config['io']['results_dir'] = \"/local_data/Gammapy/LS5039/moderate2tel/\"\n",
    "\n",
    "# Other option\n",
    "config['io']['from_run'] = False\n",
    "config['background_selection']['smooth'] = True\n",
    "\n"
   ]
  },
  {
   "cell_type": "code",
   "execution_count": 5,
   "id": "a6407876-ba60-49bf-9c16-b2c389391d93",
   "metadata": {},
   "outputs": [
    {
     "ename": "OSError",
     "evalue": "File not found: /local_data/Gammapy/Background/MegaStore/moderate2tel/hdu-index.fits.gz",
     "output_type": "error",
     "traceback": [
      "\u001b[0;31m---------------------------------------------------------------------------\u001b[0m",
      "\u001b[0;31mOSError\u001b[0m                                   Traceback (most recent call last)",
      "Cell \u001b[0;32mIn[5], line 1\u001b[0m\n\u001b[0;32m----> 1\u001b[0m config \u001b[38;5;241m=\u001b[39m \u001b[43mprepare_dataset\u001b[49m\u001b[43m(\u001b[49m\u001b[43mconfig\u001b[49m\u001b[43m)\u001b[49m\n",
      "File \u001b[0;32m/opt/conda/lib/python3.10/site-packages/gammapy_tools/make_background/prepare_data.py:33\u001b[0m, in \u001b[0;36mprepare_dataset\u001b[0;34m(config)\u001b[0m\n\u001b[1;32m     31\u001b[0m \u001b[38;5;66;03m# Open the data store\u001b[39;00m\n\u001b[1;32m     32\u001b[0m db_dir \u001b[38;5;241m=\u001b[39m config[\u001b[38;5;124m\"\u001b[39m\u001b[38;5;124mio\u001b[39m\u001b[38;5;124m\"\u001b[39m][\u001b[38;5;124m\"\u001b[39m\u001b[38;5;124msearch_datastore\u001b[39m\u001b[38;5;124m\"\u001b[39m]\n\u001b[0;32m---> 33\u001b[0m data_store \u001b[38;5;241m=\u001b[39m \u001b[43mDataStore\u001b[49m\u001b[38;5;241;43m.\u001b[39;49m\u001b[43mfrom_dir\u001b[49m\u001b[43m(\u001b[49m\u001b[43mdb_dir\u001b[49m\u001b[43m)\u001b[49m\n\u001b[1;32m     34\u001b[0m db_obs \u001b[38;5;241m=\u001b[39m data_store\u001b[38;5;241m.\u001b[39mobs_table[\u001b[38;5;124m\"\u001b[39m\u001b[38;5;124mOBS_ID\u001b[39m\u001b[38;5;124m\"\u001b[39m]\n\u001b[1;32m     36\u001b[0m \u001b[38;5;66;03m# Check which runs re in the data store\u001b[39;00m\n",
      "File \u001b[0;32m/opt/conda/lib/python3.10/site-packages/gammapy/data/data_store.py:168\u001b[0m, in \u001b[0;36mDataStore.from_dir\u001b[0;34m(cls, base_dir, hdu_table_filename, obs_table_filename)\u001b[0m\n\u001b[1;32m    165\u001b[0m     obs_table_filename \u001b[38;5;241m=\u001b[39m base_dir \u001b[38;5;241m/\u001b[39m \u001b[38;5;28mcls\u001b[39m\u001b[38;5;241m.\u001b[39mDEFAULT_OBS_TABLE\n\u001b[1;32m    167\u001b[0m \u001b[38;5;28;01mif\u001b[39;00m \u001b[38;5;129;01mnot\u001b[39;00m hdu_table_filename\u001b[38;5;241m.\u001b[39mexists():\n\u001b[0;32m--> 168\u001b[0m     \u001b[38;5;28;01mraise\u001b[39;00m \u001b[38;5;167;01mOSError\u001b[39;00m(\u001b[38;5;124mf\u001b[39m\u001b[38;5;124m\"\u001b[39m\u001b[38;5;124mFile not found: \u001b[39m\u001b[38;5;132;01m{\u001b[39;00mhdu_table_filename\u001b[38;5;132;01m}\u001b[39;00m\u001b[38;5;124m\"\u001b[39m)\n\u001b[1;32m    169\u001b[0m log\u001b[38;5;241m.\u001b[39mdebug(\u001b[38;5;124mf\u001b[39m\u001b[38;5;124m\"\u001b[39m\u001b[38;5;124mReading \u001b[39m\u001b[38;5;132;01m{\u001b[39;00mhdu_table_filename\u001b[38;5;132;01m}\u001b[39;00m\u001b[38;5;124m\"\u001b[39m)\n\u001b[1;32m    170\u001b[0m hdu_table \u001b[38;5;241m=\u001b[39m HDUIndexTable\u001b[38;5;241m.\u001b[39mread(hdu_table_filename, \u001b[38;5;28mformat\u001b[39m\u001b[38;5;241m=\u001b[39m\u001b[38;5;124m\"\u001b[39m\u001b[38;5;124mfits\u001b[39m\u001b[38;5;124m\"\u001b[39m)\n",
      "\u001b[0;31mOSError\u001b[0m: File not found: /local_data/Gammapy/Background/MegaStore/moderate2tel/hdu-index.fits.gz"
     ]
    }
   ],
   "source": [
    "config = prepare_dataset(config)"
   ]
  },
  {
   "cell_type": "code",
   "execution_count": 6,
   "id": "fda361eb-7d52-4b66-a1d1-f3b589e68197",
   "metadata": {},
   "outputs": [
    {
     "ename": "KeyError",
     "evalue": "'missing_runs'",
     "output_type": "error",
     "traceback": [
      "\u001b[0;31m---------------------------------------------------------------------------\u001b[0m",
      "\u001b[0;31mKeyError\u001b[0m                                  Traceback (most recent call last)",
      "Cell \u001b[0;32mIn[6], line 1\u001b[0m\n\u001b[0;32m----> 1\u001b[0m \u001b[43mconfig\u001b[49m\u001b[43m[\u001b[49m\u001b[38;5;124;43m\"\u001b[39;49m\u001b[38;5;124;43mrun_selection\u001b[39;49m\u001b[38;5;124;43m\"\u001b[39;49m\u001b[43m]\u001b[49m\u001b[43m[\u001b[49m\u001b[38;5;124;43m\"\u001b[39;49m\u001b[38;5;124;43mmissing_runs\u001b[39;49m\u001b[38;5;124;43m\"\u001b[39;49m\u001b[43m]\u001b[49m\n",
      "\u001b[0;31mKeyError\u001b[0m: 'missing_runs'"
     ]
    }
   ],
   "source": [
    "config[\"run_selection\"][\"missing_runs\"]"
   ]
  },
  {
   "cell_type": "code",
   "execution_count": 6,
   "id": "fdd56363-bd0f-4c36-aef8-f826b9304809",
   "metadata": {},
   "outputs": [],
   "source": [
    "created_files = glob(config[\"io\"][\"in_dir\"] + \"/*\")"
   ]
  },
  {
   "cell_type": "code",
   "execution_count": 7,
   "id": "364f0f65-647f-42b6-b01e-781e54e8e8c5",
   "metadata": {},
   "outputs": [
    {
     "data": {
      "text/plain": [
       "['/local_data/Gammapy/LS5039/moderate2tel/69202.anasum.fits',\n",
       " '/local_data/Gammapy/LS5039/moderate2tel/73213.anasum.fits',\n",
       " '/local_data/Gammapy/LS5039/moderate2tel/69188.anasum.fits',\n",
       " '/local_data/Gammapy/LS5039/moderate2tel/69203.anasum.fits',\n",
       " '/local_data/Gammapy/LS5039/moderate2tel/73357.anasum.fits',\n",
       " '/local_data/Gammapy/LS5039/moderate2tel/73193.anasum.fits',\n",
       " '/local_data/Gammapy/LS5039/moderate2tel/config.yaml',\n",
       " '/local_data/Gammapy/LS5039/moderate2tel/obs-index.fits.gz',\n",
       " '/local_data/Gammapy/LS5039/moderate2tel/73300.anasum.fits',\n",
       " '/local_data/Gammapy/LS5039/moderate2tel/69054.anasum.fits',\n",
       " '/local_data/Gammapy/LS5039/moderate2tel/73234.anasum.fits',\n",
       " '/local_data/Gammapy/LS5039/moderate2tel/73317.anasum.fits',\n",
       " '/local_data/Gammapy/LS5039/moderate2tel/73390.anasum.fits',\n",
       " '/local_data/Gammapy/LS5039/moderate2tel/69123.anasum.fits',\n",
       " '/local_data/Gammapy/LS5039/moderate2tel/73607.anasum.fits',\n",
       " '/local_data/Gammapy/LS5039/moderate2tel/69187.anasum.fits',\n",
       " '/local_data/Gammapy/LS5039/moderate2tel/73403.anasum.fits',\n",
       " '/local_data/Gammapy/LS5039/moderate2tel/73356.anasum.fits',\n",
       " '/local_data/Gammapy/LS5039/moderate2tel/hdu-index.fits.gz',\n",
       " '/local_data/Gammapy/LS5039/moderate2tel/73335.anasum.fits']"
      ]
     },
     "execution_count": 7,
     "metadata": {},
     "output_type": "execute_result"
    }
   ],
   "source": [
    "created_files"
   ]
  },
  {
   "cell_type": "code",
   "execution_count": 8,
   "id": "a31aaaeb-0858-4c66-84ac-062a5ad7fc65",
   "metadata": {},
   "outputs": [
    {
     "name": "stderr",
     "output_type": "stream",
     "text": [
      "WARNING: TimeDeltaMissingUnitWarning: Numerical value without unit or explicit format passed to TimeDelta, assuming days [astropy.time.core]\n",
      "WARNING: TimeDeltaMissingUnitWarning: Numerical value without unit or explicit format passed to TimeDelta, assuming days [astropy.time.core]\n",
      "WARNING: TimeDeltaMissingUnitWarning: Numerical value without unit or explicit format passed to TimeDelta, assuming days [astropy.time.core]\n",
      "WARNING: TimeDeltaMissingUnitWarning: Numerical value without unit or explicit format passed to TimeDelta, assuming days [astropy.time.core]\n",
      "WARNING: TimeDeltaMissingUnitWarning: Numerical value without unit or explicit format passed to TimeDelta, assuming days [astropy.time.core]\n",
      "WARNING: TimeDeltaMissingUnitWarning: Numerical value without unit or explicit format passed to TimeDelta, assuming days [astropy.time.core]\n",
      "WARNING: TimeDeltaMissingUnitWarning: Numerical value without unit or explicit format passed to TimeDelta, assuming days [astropy.time.core]\n",
      "WARNING: TimeDeltaMissingUnitWarning: Numerical value without unit or explicit format passed to TimeDelta, assuming days [astropy.time.core]\n",
      "WARNING: TimeDeltaMissingUnitWarning: Numerical value without unit or explicit format passed to TimeDelta, assuming days [astropy.time.core]\n",
      "WARNING: TimeDeltaMissingUnitWarning: Numerical value without unit or explicit format passed to TimeDelta, assuming days [astropy.time.core]\n"
     ]
    },
    {
     "name": "stdout",
     "output_type": "stream",
     "text": [
      "69203 5.198646\n",
      "69188 6.1595235\n",
      "73234 1.3482993\n",
      "69123 5.198646\n",
      "73213 6.440753\n",
      "73300 7.820911\n",
      "69187 3.739757\n",
      "69054 6.1153865\n",
      "69202 4.2147903\n",
      "73193 3.9607105\n",
      "73335 8.854813\n",
      "73356 7.820911\n",
      "73357 8.437678\n",
      "73403 8.22632\n",
      "73607 3.5570621\n"
     ]
    }
   ],
   "source": [
    "config = run_make_background(config)"
   ]
  },
  {
   "cell_type": "code",
   "execution_count": null,
   "id": "1e4a1a7f-c53e-43bb-ab79-aa88bdec2ff9",
   "metadata": {},
   "outputs": [],
   "source": []
  },
  {
   "cell_type": "code",
   "execution_count": null,
   "id": "2e28cf3d-93cc-4f3f-b52b-5a23a6c8e088",
   "metadata": {},
   "outputs": [],
   "source": []
  }
 ],
 "metadata": {
  "kernelspec": {
   "display_name": "Python 3 (ipykernel)",
   "language": "python",
   "name": "python3"
  },
  "language_info": {
   "codemirror_mode": {
    "name": "ipython",
    "version": 3
   },
   "file_extension": ".py",
   "mimetype": "text/x-python",
   "name": "python",
   "nbconvert_exporter": "python",
   "pygments_lexer": "ipython3",
   "version": "3.10.13"
  }
 },
 "nbformat": 4,
 "nbformat_minor": 5
}
