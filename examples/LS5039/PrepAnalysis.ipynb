{
 "cells": [
  {
   "cell_type": "code",
   "execution_count": 1,
   "id": "1228eec6-ea68-4ee6-b6f3-5b646a3e8eb9",
   "metadata": {},
   "outputs": [],
   "source": [
    "import yaml\n",
    "from gammapy_tools.make_background import prepare_dataset, run_make_background\n",
    "from gammapy_tools.templates import get_config\n",
    "from glob import glob"
   ]
  },
  {
   "cell_type": "code",
   "execution_count": 2,
   "id": "f53c6b5f-34d6-4718-9b3d-f3d7e9666d46",
   "metadata": {},
   "outputs": [],
   "source": [
    "with open(\"./config_LS5039.yaml\", \"r\") as f:\n",
    "    config = yaml.safe_load(f)\n",
    "\n",
    "# config = get_config"
   ]
  },
  {
   "cell_type": "code",
   "execution_count": 3,
   "id": "b57902e5-85f1-460a-94ec-20e41ea4951f",
   "metadata": {},
   "outputs": [],
   "source": [
    "\n",
    "\n",
    "# Modify the paths to various data stores\n",
    "\n",
    "\n",
    "config['io'][\"search_datastore\"] = \"/raid/RAID1/VERITAS_Data/Background/MegaStore/moderate2tel_runwise\"\n",
    "config['io']['in_dir'] = \"/raid/RAID1/VERITAS_Data/gammapy/LS5039/\"\n",
    "config['io']['out_dir'] = \"/raid/RAID1/VERITAS_Data/gammapy/LS5039/\"\n",
    "config['io']['results_dir'] = \"/raid/RAID1/VERITAS_Data/gammapy/LS5039/\"\n",
    "\n",
    "# Other option\n",
    "config['io']['from_run'] = False\n",
    "config['background_selection']['smooth'] = False\n",
    "\n",
    "config['background_selection']['smooth_sigma'] = 1.0\n",
    "config['background_selection']['KL_DIV'] = True\n",
    "config['config']['njobs'] = 16\n",
    "\n"
   ]
  },
  {
   "cell_type": "code",
   "execution_count": 4,
   "id": "a6407876-ba60-49bf-9c16-b2c389391d93",
   "metadata": {},
   "outputs": [
    {
     "name": "stdout",
     "output_type": "stream",
     "text": [
      "Written to /raid/RAID1/VERITAS_Data/gammapy/LS5039//config.yaml\n"
     ]
    }
   ],
   "source": [
    "config = prepare_dataset(config)"
   ]
  },
  {
   "cell_type": "code",
   "execution_count": 5,
   "id": "fda361eb-7d52-4b66-a1d1-f3b589e68197",
   "metadata": {},
   "outputs": [
    {
     "data": {
      "text/plain": [
       "[]"
      ]
     },
     "execution_count": 5,
     "metadata": {},
     "output_type": "execute_result"
    }
   ],
   "source": [
    "config[\"run_selection\"][\"missing_runs\"]"
   ]
  },
  {
   "cell_type": "code",
   "execution_count": 6,
   "id": "fdd56363-bd0f-4c36-aef8-f826b9304809",
   "metadata": {},
   "outputs": [],
   "source": [
    "created_files = glob(config[\"io\"][\"in_dir\"] + \"/*\")"
   ]
  },
  {
   "cell_type": "code",
   "execution_count": 7,
   "id": "364f0f65-647f-42b6-b01e-781e54e8e8c5",
   "metadata": {},
   "outputs": [
    {
     "data": {
      "text/plain": [
       "['/raid/RAID1/VERITAS_Data/gammapy/LS5039/73335.anasum.fits',\n",
       " '/raid/RAID1/VERITAS_Data/gammapy/LS5039/73193.anasum.fits',\n",
       " '/raid/RAID1/VERITAS_Data/gammapy/LS5039/69203.anasum.fits',\n",
       " '/raid/RAID1/VERITAS_Data/gammapy/LS5039/73213.anasum.fits',\n",
       " '/raid/RAID1/VERITAS_Data/gammapy/LS5039/73356.anasum.fits',\n",
       " '/raid/RAID1/VERITAS_Data/gammapy/LS5039/obs-index.fits.gz',\n",
       " '/raid/RAID1/VERITAS_Data/gammapy/LS5039/73607.anasum.fits',\n",
       " '/raid/RAID1/VERITAS_Data/gammapy/LS5039/73234.anasum.fits',\n",
       " '/raid/RAID1/VERITAS_Data/gammapy/LS5039/69202.anasum.fits',\n",
       " '/raid/RAID1/VERITAS_Data/gammapy/LS5039/69188.anasum.fits',\n",
       " '/raid/RAID1/VERITAS_Data/gammapy/LS5039/69187.anasum.fits',\n",
       " '/raid/RAID1/VERITAS_Data/gammapy/LS5039/hdu-index.fits.gz',\n",
       " '/raid/RAID1/VERITAS_Data/gammapy/LS5039/73357.anasum.fits',\n",
       " '/raid/RAID1/VERITAS_Data/gammapy/LS5039/73390.anasum.fits',\n",
       " '/raid/RAID1/VERITAS_Data/gammapy/LS5039/69123.anasum.fits',\n",
       " '/raid/RAID1/VERITAS_Data/gammapy/LS5039/73317.anasum.fits',\n",
       " '/raid/RAID1/VERITAS_Data/gammapy/LS5039/69054.anasum.fits',\n",
       " '/raid/RAID1/VERITAS_Data/gammapy/LS5039/config.yaml',\n",
       " '/raid/RAID1/VERITAS_Data/gammapy/LS5039/73403.anasum.fits',\n",
       " '/raid/RAID1/VERITAS_Data/gammapy/LS5039/73300.anasum.fits']"
      ]
     },
     "execution_count": 7,
     "metadata": {},
     "output_type": "execute_result"
    }
   ],
   "source": [
    "created_files"
   ]
  },
  {
   "cell_type": "code",
   "execution_count": 8,
   "id": "a31aaaeb-0858-4c66-84ac-062a5ad7fc65",
   "metadata": {},
   "outputs": [
    {
     "name": "stderr",
     "output_type": "stream",
     "text": [
      "/home/obriens/mambaforge/envs/gammapy-tools/lib/python3.11/site-packages/gammapy_tools/make_background/background_tools.py:56: RuntimeWarning: invalid value encountered in divide\n",
      "  data /= data.sum()\n"
     ]
    },
    {
     "name": "stdout",
     "output_type": "stream",
     "text": [
      "69054 used 9.945995330810547 hours for background generation\n"
     ]
    },
    {
     "name": "stderr",
     "output_type": "stream",
     "text": [
      "/home/obriens/mambaforge/envs/gammapy-tools/lib/python3.11/site-packages/astropy/utils/decorators.py:837: GammapyDeprecationWarning: Use observation.pointing or observation.get_pointing_{altaz,icrs} instead\n",
      "  val = self.fget(obj)\n",
      "/home/obriens/mambaforge/envs/gammapy-tools/lib/python3.11/site-packages/astropy/utils/decorators.py:837: GammapyDeprecationWarning: The radec function is deprecated and may be removed in a future version.\n",
      "  val = self.fget(obj)\n",
      "/home/obriens/mambaforge/envs/gammapy-tools/lib/python3.11/site-packages/gammapy_tools/make_background/background_tools.py:56: RuntimeWarning: invalid value encountered in divide\n",
      "  data /= data.sum()\n"
     ]
    },
    {
     "name": "stdout",
     "output_type": "stream",
     "text": [
      "69123 used 9.980230331420898 hours for background generation\n"
     ]
    },
    {
     "name": "stderr",
     "output_type": "stream",
     "text": [
      "/home/obriens/mambaforge/envs/gammapy-tools/lib/python3.11/site-packages/astropy/utils/decorators.py:837: GammapyDeprecationWarning: Use observation.pointing or observation.get_pointing_{altaz,icrs} instead\n",
      "  val = self.fget(obj)\n",
      "/home/obriens/mambaforge/envs/gammapy-tools/lib/python3.11/site-packages/astropy/utils/decorators.py:837: GammapyDeprecationWarning: The radec function is deprecated and may be removed in a future version.\n",
      "  val = self.fget(obj)\n",
      "/home/obriens/mambaforge/envs/gammapy-tools/lib/python3.11/site-packages/gammapy_tools/make_background/background_tools.py:56: RuntimeWarning: invalid value encountered in divide\n",
      "  data /= data.sum()\n"
     ]
    },
    {
     "name": "stdout",
     "output_type": "stream",
     "text": [
      "69187 used 9.76049518585205 hours for background generation\n"
     ]
    },
    {
     "name": "stderr",
     "output_type": "stream",
     "text": [
      "/home/obriens/mambaforge/envs/gammapy-tools/lib/python3.11/site-packages/astropy/utils/decorators.py:837: GammapyDeprecationWarning: Use observation.pointing or observation.get_pointing_{altaz,icrs} instead\n",
      "  val = self.fget(obj)\n",
      "/home/obriens/mambaforge/envs/gammapy-tools/lib/python3.11/site-packages/astropy/utils/decorators.py:837: GammapyDeprecationWarning: The radec function is deprecated and may be removed in a future version.\n",
      "  val = self.fget(obj)\n",
      "/home/obriens/mambaforge/envs/gammapy-tools/lib/python3.11/site-packages/gammapy_tools/make_background/background_tools.py:56: RuntimeWarning: invalid value encountered in divide\n",
      "  data /= data.sum()\n",
      "/home/obriens/mambaforge/envs/gammapy-tools/lib/python3.11/site-packages/astropy/utils/decorators.py:837: GammapyDeprecationWarning: Use observation.pointing or observation.get_pointing_{altaz,icrs} instead\n",
      "  val = self.fget(obj)\n",
      "/home/obriens/mambaforge/envs/gammapy-tools/lib/python3.11/site-packages/astropy/utils/decorators.py:837: GammapyDeprecationWarning: The radec function is deprecated and may be removed in a future version.\n",
      "  val = self.fget(obj)\n",
      "/home/obriens/mambaforge/envs/gammapy-tools/lib/python3.11/site-packages/gammapy_tools/make_background/background_tools.py:56: RuntimeWarning: invalid value encountered in divide\n",
      "  data /= data.sum()\n",
      "/home/obriens/mambaforge/envs/gammapy-tools/lib/python3.11/site-packages/astropy/utils/decorators.py:837: GammapyDeprecationWarning: Use observation.pointing or observation.get_pointing_{altaz,icrs} instead\n",
      "  val = self.fget(obj)\n",
      "/home/obriens/mambaforge/envs/gammapy-tools/lib/python3.11/site-packages/astropy/utils/decorators.py:837: GammapyDeprecationWarning: The radec function is deprecated and may be removed in a future version.\n",
      "  val = self.fget(obj)\n",
      "/home/obriens/mambaforge/envs/gammapy-tools/lib/python3.11/site-packages/gammapy_tools/make_background/background_tools.py:56: RuntimeWarning: invalid value encountered in divide\n",
      "  data /= data.sum()\n"
     ]
    },
    {
     "name": "stdout",
     "output_type": "stream",
     "text": [
      "69203 used 9.847016334533691 hours for background generation\n"
     ]
    },
    {
     "name": "stderr",
     "output_type": "stream",
     "text": [
      "/home/obriens/mambaforge/envs/gammapy-tools/lib/python3.11/site-packages/astropy/utils/decorators.py:837: GammapyDeprecationWarning: Use observation.pointing or observation.get_pointing_{altaz,icrs} instead\n",
      "  val = self.fget(obj)\n",
      "/home/obriens/mambaforge/envs/gammapy-tools/lib/python3.11/site-packages/astropy/utils/decorators.py:837: GammapyDeprecationWarning: The radec function is deprecated and may be removed in a future version.\n",
      "  val = self.fget(obj)\n",
      "/home/obriens/mambaforge/envs/gammapy-tools/lib/python3.11/site-packages/gammapy_tools/make_background/background_tools.py:56: RuntimeWarning: invalid value encountered in divide\n",
      "  data /= data.sum()\n",
      "/home/obriens/mambaforge/envs/gammapy-tools/lib/python3.11/site-packages/astropy/utils/decorators.py:837: GammapyDeprecationWarning: Use observation.pointing or observation.get_pointing_{altaz,icrs} instead\n",
      "  val = self.fget(obj)\n",
      "/home/obriens/mambaforge/envs/gammapy-tools/lib/python3.11/site-packages/astropy/utils/decorators.py:837: GammapyDeprecationWarning: The radec function is deprecated and may be removed in a future version.\n",
      "  val = self.fget(obj)\n",
      "/home/obriens/mambaforge/envs/gammapy-tools/lib/python3.11/site-packages/gammapy_tools/make_background/background_tools.py:56: RuntimeWarning: invalid value encountered in divide\n",
      "  data /= data.sum()\n"
     ]
    },
    {
     "name": "stdout",
     "output_type": "stream",
     "text": [
      "73213 used 9.945452690124512 hours for background generation\n"
     ]
    },
    {
     "name": "stderr",
     "output_type": "stream",
     "text": [
      "/home/obriens/mambaforge/envs/gammapy-tools/lib/python3.11/site-packages/astropy/utils/decorators.py:837: GammapyDeprecationWarning: Use observation.pointing or observation.get_pointing_{altaz,icrs} instead\n",
      "  val = self.fget(obj)\n",
      "/home/obriens/mambaforge/envs/gammapy-tools/lib/python3.11/site-packages/astropy/utils/decorators.py:837: GammapyDeprecationWarning: The radec function is deprecated and may be removed in a future version.\n",
      "  val = self.fget(obj)\n",
      "/home/obriens/mambaforge/envs/gammapy-tools/lib/python3.11/site-packages/gammapy_tools/make_background/background_tools.py:56: RuntimeWarning: invalid value encountered in divide\n",
      "  data /= data.sum()\n"
     ]
    },
    {
     "name": "stdout",
     "output_type": "stream",
     "text": [
      "73234 used 9.89799690246582 hours for background generation\n"
     ]
    },
    {
     "name": "stderr",
     "output_type": "stream",
     "text": [
      "/home/obriens/mambaforge/envs/gammapy-tools/lib/python3.11/site-packages/astropy/utils/decorators.py:837: GammapyDeprecationWarning: Use observation.pointing or observation.get_pointing_{altaz,icrs} instead\n",
      "  val = self.fget(obj)\n",
      "/home/obriens/mambaforge/envs/gammapy-tools/lib/python3.11/site-packages/astropy/utils/decorators.py:837: GammapyDeprecationWarning: The radec function is deprecated and may be removed in a future version.\n",
      "  val = self.fget(obj)\n",
      "/home/obriens/mambaforge/envs/gammapy-tools/lib/python3.11/site-packages/gammapy_tools/make_background/background_tools.py:56: RuntimeWarning: invalid value encountered in divide\n",
      "  data /= data.sum()\n",
      "/home/obriens/mambaforge/envs/gammapy-tools/lib/python3.11/site-packages/astropy/utils/decorators.py:837: GammapyDeprecationWarning: Use observation.pointing or observation.get_pointing_{altaz,icrs} instead\n",
      "  val = self.fget(obj)\n",
      "/home/obriens/mambaforge/envs/gammapy-tools/lib/python3.11/site-packages/astropy/utils/decorators.py:837: GammapyDeprecationWarning: The radec function is deprecated and may be removed in a future version.\n",
      "  val = self.fget(obj)\n",
      "/home/obriens/mambaforge/envs/gammapy-tools/lib/python3.11/site-packages/gammapy_tools/make_background/background_tools.py:56: RuntimeWarning: invalid value encountered in divide\n",
      "  data /= data.sum()\n"
     ]
    },
    {
     "name": "stdout",
     "output_type": "stream",
     "text": [
      "73317 used 9.846593856811523 hours for background generation\n"
     ]
    },
    {
     "name": "stderr",
     "output_type": "stream",
     "text": [
      "/home/obriens/mambaforge/envs/gammapy-tools/lib/python3.11/site-packages/astropy/utils/decorators.py:837: GammapyDeprecationWarning: Use observation.pointing or observation.get_pointing_{altaz,icrs} instead\n",
      "  val = self.fget(obj)\n",
      "/home/obriens/mambaforge/envs/gammapy-tools/lib/python3.11/site-packages/astropy/utils/decorators.py:837: GammapyDeprecationWarning: The radec function is deprecated and may be removed in a future version.\n",
      "  val = self.fget(obj)\n",
      "/home/obriens/mambaforge/envs/gammapy-tools/lib/python3.11/site-packages/gammapy_tools/make_background/background_tools.py:56: RuntimeWarning: invalid value encountered in divide\n",
      "  data /= data.sum()\n",
      "/home/obriens/mambaforge/envs/gammapy-tools/lib/python3.11/site-packages/astropy/utils/decorators.py:837: GammapyDeprecationWarning: Use observation.pointing or observation.get_pointing_{altaz,icrs} instead\n",
      "  val = self.fget(obj)\n",
      "/home/obriens/mambaforge/envs/gammapy-tools/lib/python3.11/site-packages/astropy/utils/decorators.py:837: GammapyDeprecationWarning: The radec function is deprecated and may be removed in a future version.\n",
      "  val = self.fget(obj)\n",
      "/home/obriens/mambaforge/envs/gammapy-tools/lib/python3.11/site-packages/gammapy_tools/make_background/background_tools.py:56: RuntimeWarning: invalid value encountered in divide\n",
      "  data /= data.sum()\n"
     ]
    },
    {
     "name": "stdout",
     "output_type": "stream",
     "text": [
      "73356 used 9.86532974243164 hours for background generation\n"
     ]
    },
    {
     "name": "stderr",
     "output_type": "stream",
     "text": [
      "/home/obriens/mambaforge/envs/gammapy-tools/lib/python3.11/site-packages/astropy/utils/decorators.py:837: GammapyDeprecationWarning: Use observation.pointing or observation.get_pointing_{altaz,icrs} instead\n",
      "  val = self.fget(obj)\n",
      "/home/obriens/mambaforge/envs/gammapy-tools/lib/python3.11/site-packages/astropy/utils/decorators.py:837: GammapyDeprecationWarning: The radec function is deprecated and may be removed in a future version.\n",
      "  val = self.fget(obj)\n",
      "/home/obriens/mambaforge/envs/gammapy-tools/lib/python3.11/site-packages/gammapy_tools/make_background/background_tools.py:56: RuntimeWarning: invalid value encountered in divide\n",
      "  data /= data.sum()\n"
     ]
    },
    {
     "name": "stdout",
     "output_type": "stream",
     "text": [
      "73357 used 9.795845031738281 hours for background generation\n"
     ]
    },
    {
     "name": "stderr",
     "output_type": "stream",
     "text": [
      "/home/obriens/mambaforge/envs/gammapy-tools/lib/python3.11/site-packages/astropy/utils/decorators.py:837: GammapyDeprecationWarning: Use observation.pointing or observation.get_pointing_{altaz,icrs} instead\n",
      "  val = self.fget(obj)\n",
      "/home/obriens/mambaforge/envs/gammapy-tools/lib/python3.11/site-packages/astropy/utils/decorators.py:837: GammapyDeprecationWarning: The radec function is deprecated and may be removed in a future version.\n",
      "  val = self.fget(obj)\n",
      "/home/obriens/mambaforge/envs/gammapy-tools/lib/python3.11/site-packages/gammapy_tools/make_background/background_tools.py:56: RuntimeWarning: invalid value encountered in divide\n",
      "  data /= data.sum()\n",
      "/home/obriens/mambaforge/envs/gammapy-tools/lib/python3.11/site-packages/astropy/utils/decorators.py:837: GammapyDeprecationWarning: Use observation.pointing or observation.get_pointing_{altaz,icrs} instead\n",
      "  val = self.fget(obj)\n",
      "/home/obriens/mambaforge/envs/gammapy-tools/lib/python3.11/site-packages/astropy/utils/decorators.py:837: GammapyDeprecationWarning: The radec function is deprecated and may be removed in a future version.\n",
      "  val = self.fget(obj)\n",
      "/home/obriens/mambaforge/envs/gammapy-tools/lib/python3.11/site-packages/gammapy_tools/make_background/background_tools.py:56: RuntimeWarning: invalid value encountered in divide\n",
      "  data /= data.sum()\n"
     ]
    },
    {
     "name": "stdout",
     "output_type": "stream",
     "text": [
      "73403 used 9.788467407226562 hours for background generation\n"
     ]
    },
    {
     "name": "stderr",
     "output_type": "stream",
     "text": [
      "/home/obriens/mambaforge/envs/gammapy-tools/lib/python3.11/site-packages/astropy/utils/decorators.py:837: GammapyDeprecationWarning: Use observation.pointing or observation.get_pointing_{altaz,icrs} instead\n",
      "  val = self.fget(obj)\n",
      "/home/obriens/mambaforge/envs/gammapy-tools/lib/python3.11/site-packages/astropy/utils/decorators.py:837: GammapyDeprecationWarning: The radec function is deprecated and may be removed in a future version.\n",
      "  val = self.fget(obj)\n",
      "/home/obriens/mambaforge/envs/gammapy-tools/lib/python3.11/site-packages/gammapy_tools/make_background/background_tools.py:56: RuntimeWarning: invalid value encountered in divide\n",
      "  data /= data.sum()\n"
     ]
    },
    {
     "name": "stdout",
     "output_type": "stream",
     "text": [
      "73607 used 9.798983573913574 hours for background generation\n"
     ]
    },
    {
     "name": "stderr",
     "output_type": "stream",
     "text": [
      "/home/obriens/mambaforge/envs/gammapy-tools/lib/python3.11/site-packages/astropy/utils/decorators.py:837: GammapyDeprecationWarning: Use observation.pointing or observation.get_pointing_{altaz,icrs} instead\n",
      "  val = self.fget(obj)\n",
      "/home/obriens/mambaforge/envs/gammapy-tools/lib/python3.11/site-packages/astropy/utils/decorators.py:837: GammapyDeprecationWarning: The radec function is deprecated and may be removed in a future version.\n",
      "  val = self.fget(obj)\n"
     ]
    }
   ],
   "source": [
    "config = run_make_background(config)"
   ]
  },
  {
   "cell_type": "code",
   "execution_count": null,
   "id": "1e4a1a7f-c53e-43bb-ab79-aa88bdec2ff9",
   "metadata": {},
   "outputs": [],
   "source": []
  },
  {
   "cell_type": "code",
   "execution_count": null,
   "id": "2e28cf3d-93cc-4f3f-b52b-5a23a6c8e088",
   "metadata": {},
   "outputs": [],
   "source": []
  }
 ],
 "metadata": {
  "kernelspec": {
   "display_name": "Python 3 (ipykernel)",
   "language": "python",
   "name": "python3"
  },
  "language_info": {
   "codemirror_mode": {
    "name": "ipython",
    "version": 3
   },
   "file_extension": ".py",
   "mimetype": "text/x-python",
   "name": "python",
   "nbconvert_exporter": "python",
   "pygments_lexer": "ipython3",
   "version": "3.11.7"
  }
 },
 "nbformat": 4,
 "nbformat_minor": 5
}
